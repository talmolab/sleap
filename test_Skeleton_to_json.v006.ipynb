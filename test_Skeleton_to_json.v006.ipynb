{
 "cells": [
  {
   "cell_type": "code",
   "execution_count": 1,
   "metadata": {},
   "outputs": [],
   "source": [
    "import sleap\n",
    "\n",
    "import json\n",
    "import jsonpickle\n",
    "import attrs\n",
    "\n",
    "from sleap.skeleton import Skeleton\n",
    "from typing import List, Dict, Any, Tuple, Union, Optional\n",
    "from networkx.readwrite import json_graph\n",
    "from sleap.io.dataset import Labels"
   ]
  },
  {
   "cell_type": "code",
   "execution_count": 2,
   "metadata": {},
   "outputs": [
    {
     "name": "stdout",
     "output_type": "stream",
     "text": [
      "sleap: 1.4.1a2\n",
      "jsonpickle: 1.2\n",
      "attrs: 24.2.0\n"
     ]
    }
   ],
   "source": [
    "print(f\"sleap: {sleap.__version__}\")\n",
    "print(f\"jsonpickle: {jsonpickle.__version__}\")\n",
    "print(f\"attrs: {attrs.__version__}\")"
   ]
  },
  {
   "cell_type": "code",
   "execution_count": 3,
   "metadata": {},
   "outputs": [],
   "source": [
    "# tuples vs. dicts\n",
    "# saving to individual skeleton JSON files\n",
    "# input Skeleton from labels file \n",
    "# from_json_data get rid of cattrs"
   ]
  },
  {
   "cell_type": "code",
   "execution_count": 4,
   "metadata": {},
   "outputs": [],
   "source": [
    "# old code from SLEAP\n",
    "    # def to_json(self, node_to_idx: Optional[Dict[Node, int]] = None) -> str:\n",
    "    #     \"\"\"Convert the :class:`Skeleton` to a JSON representation.\n",
    "\n",
    "    #     Args:\n",
    "    #         node_to_idx: optional dict which maps :class:`Nodes`to index\n",
    "    #             in some list. This is used when saving\n",
    "    #             :class:`Labels`where we want to serialize the\n",
    "    #             :class:`Nodes` outside the :class:`Skeleton` object.\n",
    "    #             If given, then we replace each :class:`Node` with\n",
    "    #             specified index before converting :class:`Skeleton`.\n",
    "    #             Otherwise, we convert :class:`Node` objects with the rest of\n",
    "    #             the :class:`Skeleton`.\n",
    "\n",
    "    #     Returns:\n",
    "    #         A string containing the JSON representation of the skeleton.\n",
    "    #     \"\"\"\n",
    "    #     jsonpickle.set_encoder_options(\"simplejson\", sort_keys=True, indent=4)\n",
    "    #     if node_to_idx is not None:\n",
    "    #         indexed_node_graph = nx.relabel_nodes(\n",
    "    #             G=self._graph, mapping=node_to_idx\n",
    "    #         )  # map nodes to int\n",
    "    #     else:\n",
    "    #         indexed_node_graph = self._graph\n",
    "\n",
    "    #     # Encode to JSON\n",
    "    #     graph = json_graph.node_link_data(indexed_node_graph)\n",
    "\n",
    "    #     # SLEAP v1.3.0 added `description` and `preview_image` to `Skeleton`, but saving\n",
    "    #     # these fields breaks data format compatibility. Currently, these are only\n",
    "    #     # added in our custom template skeletons. To ensure backwards data format\n",
    "    #     # compatibilty of user data, we only save these fields if they are not None.\n",
    "    #     if self.is_template:\n",
    "    #         data = {\n",
    "    #             \"nx_graph\": graph,\n",
    "    #             \"description\": self.description,\n",
    "    #             \"preview_image\": self.preview_image,\n",
    "    #         }\n",
    "    #     else:\n",
    "    #         data = graph\n",
    "\n",
    "    #     json_str = jsonpickle.encode(data)\n",
    "\n",
    "    #     return json_str"
   ]
  },
  {
   "cell_type": "code",
   "execution_count": 5,
   "metadata": {},
   "outputs": [],
   "source": [
    "# # Test Skeleton from labels file made with sleap-io\n",
    "\n",
    "# labels_path = r\"C:\\repos\\sleap-io\\minimal_instance_from_sio.slp\"\n",
    "\n",
    "# # Load labels\n",
    "# labels = sleap.load_file(labels_path)\n",
    "\n",
    "# labels.skeletons"
   ]
  },
  {
   "cell_type": "code",
   "execution_count": 6,
   "metadata": {},
   "outputs": [
    {
     "name": "stdout",
     "output_type": "stream",
     "text": [
      "test_skeleton: Skeleton(description=None, nodes=[A, B], edges=[A->B], symmetries=[])\n"
     ]
    }
   ],
   "source": [
    "# Test with labels\n",
    "\n",
    "# Load the labels\n",
    "test_labels = sleap.load_file(r'tests\\data\\slp_hdf5\\minimal_instance.slp')\n",
    "\n",
    "# Get the first skeleton\n",
    "test_skeleton = test_labels.skeletons[0]\n",
    "\n",
    "# Print the skeleton\n",
    "print(f'test_skeleton: {test_skeleton}')"
   ]
  },
  {
   "cell_type": "code",
   "execution_count": 7,
   "metadata": {},
   "outputs": [
    {
     "name": "stdout",
     "output_type": "stream",
     "text": [
      "node: Node(name='A', weight=1.0)\n",
      "node_to_id: {Node(name='A', weight=1.0): 0}\n",
      "node: Node(name='B', weight=1.0)\n",
      "node_to_id: {Node(name='A', weight=1.0): 0, Node(name='B', weight=1.0): 1}\n",
      "nodes_dicts: [{'name': 'A', 'weight': 1.0}, {'name': 'B', 'weight': 1.0}]\n",
      "edge_ind: 0\n",
      "edge: (Node(name='A', weight=1.0), Node(name='B', weight=1.0))\n",
      "edge_type: {'py/reduce': [{'py/type': 'sleap.skeleton.EdgeType'}, {'py/tuple': [1]}]}\n",
      "source: Node(name='A', weight=1.0)\n",
      "node_to_id[source]: 0\n",
      "target: Node(name='B', weight=1.0)\n",
      "node_to_id[target]: 1\n",
      "edges_dicts: [{'edge_insert_idx': 0, 'key': 0, 'source': {'py/object': 'sleap.skeleton.Node', 'py/state': {'name': 'A', 'weight': 1.0}}, 'target': {'py/object': 'sleap.skeleton.Node', 'py/state': {'name': 'B', 'weight': 1.0}}, 'type': {'py/reduce': [{'py/type': 'sleap.skeleton.EdgeType'}, {'py/tuple': [1]}]}}]\n",
      "skeleton_dict: {'directed': True, 'graph': {'name': 'Skeleton-0', 'num_edges_inserted': 1}, 'links': [{'edge_insert_idx': 0, 'key': 0, 'source': {'py/object': 'sleap.skeleton.Node', 'py/state': {'name': 'A', 'weight': 1.0}}, 'target': {'py/object': 'sleap.skeleton.Node', 'py/state': {'name': 'B', 'weight': 1.0}}, 'type': {'py/reduce': [{'py/type': 'sleap.skeleton.EdgeType'}, {'py/tuple': [1]}]}}], 'multigraph': True, 'nodes': [{'id': {'py/id': 0}}, {'id': {'py/id': 1}}]}\n",
      "json_str: {\"directed\": true, \"graph\": {\"name\": \"Skeleton-0\", \"num_edges_inserted\": 1}, \"links\": [{\"edge_insert_idx\": 0, \"key\": 0, \"source\": {\"py/object\": \"sleap.skeleton.Node\", \"py/state\": {\"name\": \"A\", \"weight\": 1.0}}, \"target\": {\"py/object\": \"sleap.skeleton.Node\", \"py/state\": {\"name\": \"B\", \"weight\": 1.0}}, \"type\": {\"py/reduce\": [{\"py/type\": \"sleap.skeleton.EdgeType\"}, {\"py/tuple\": [1]}]}}], \"multigraph\": true, \"nodes\": [{\"id\": {\"py/id\": 0}}, {\"id\": {\"py/id\": 1}}]}\n",
      "test_skeleton_json: {\"directed\": true, \"graph\": {\"name\": \"Skeleton-0\", \"num_edges_inserted\": 1}, \"links\": [{\"edge_insert_idx\": 0, \"key\": 0, \"source\": {\"py/object\": \"sleap.skeleton.Node\", \"py/state\": {\"name\": \"A\", \"weight\": 1.0}}, \"target\": {\"py/object\": \"sleap.skeleton.Node\", \"py/state\": {\"name\": \"B\", \"weight\": 1.0}}, \"type\": {\"py/reduce\": [{\"py/type\": \"sleap.skeleton.EdgeType\"}, {\"py/tuple\": [1]}]}}], \"multigraph\": true, \"nodes\": [{\"id\": {\"py/id\": 0}}, {\"id\": {\"py/id\": 1}}]}\n",
      "Wrote test_skeleton_json to file\n"
     ]
    }
   ],
   "source": [
    "# Save to json using the old to_json method (deprecated)\n",
    "test_skeleton_json = test_skeleton.to_json()\n",
    "print(f'test_skeleton_json: {test_skeleton_json}')\n",
    "\n",
    "# Save json string to file\n",
    "with open(r'test_skeleton_serialization.json', 'w') as f:\n",
    "    f.write(test_skeleton_json)\n",
    "    print(f'Wrote test_skeleton_json to file')"
   ]
  },
  {
   "cell_type": "code",
   "execution_count": 8,
   "metadata": {},
   "outputs": [
    {
     "ename": "TypeError",
     "evalue": "unhashable type: 'dict'",
     "output_type": "error",
     "traceback": [
      "\u001b[1;31m---------------------------------------------------------------------------\u001b[0m",
      "\u001b[1;31mTypeError\u001b[0m                                 Traceback (most recent call last)",
      "\u001b[1;32m~\\AppData\\Local\\Temp\\ipykernel_21480\\3098081962.py\u001b[0m in \u001b[0;36m<module>\u001b[1;34m\u001b[0m\n\u001b[0;32m      1\u001b[0m \u001b[1;31m# Load the json file\u001b[0m\u001b[1;33m\u001b[0m\u001b[1;33m\u001b[0m\u001b[1;33m\u001b[0m\u001b[0m\n\u001b[1;32m----> 2\u001b[1;33m \u001b[0mtest_skeleton_from_json\u001b[0m \u001b[1;33m=\u001b[0m \u001b[0mSkeleton\u001b[0m\u001b[1;33m.\u001b[0m\u001b[0mfrom_json\u001b[0m\u001b[1;33m(\u001b[0m\u001b[0mtest_skeleton_json\u001b[0m\u001b[1;33m)\u001b[0m\u001b[1;33m\u001b[0m\u001b[1;33m\u001b[0m\u001b[0m\n\u001b[0m\u001b[0;32m      3\u001b[0m \u001b[0mprint\u001b[0m\u001b[1;33m(\u001b[0m\u001b[1;34mf'test_skeleton_from_json: {test_skeleton_from_json}'\u001b[0m\u001b[1;33m)\u001b[0m\u001b[1;33m\u001b[0m\u001b[1;33m\u001b[0m\u001b[0m\n",
      "\u001b[1;32mc:\\repos\\sleap\\sleap\\skeleton.py\u001b[0m in \u001b[0;36mfrom_json\u001b[1;34m(cls, json_str, idx_to_node)\u001b[0m\n\u001b[0;32m   1193\u001b[0m         \u001b[0mdicts\u001b[0m \u001b[1;33m=\u001b[0m \u001b[0mjsonpickle\u001b[0m\u001b[1;33m.\u001b[0m\u001b[0mdecode\u001b[0m\u001b[1;33m(\u001b[0m\u001b[0mjson_str\u001b[0m\u001b[1;33m)\u001b[0m\u001b[1;33m\u001b[0m\u001b[1;33m\u001b[0m\u001b[0m\n\u001b[0;32m   1194\u001b[0m         \u001b[0mnx_graph\u001b[0m \u001b[1;33m=\u001b[0m \u001b[0mdicts\u001b[0m\u001b[1;33m.\u001b[0m\u001b[0mget\u001b[0m\u001b[1;33m(\u001b[0m\u001b[1;34m\"nx_graph\"\u001b[0m\u001b[1;33m,\u001b[0m \u001b[0mdicts\u001b[0m\u001b[1;33m)\u001b[0m\u001b[1;33m\u001b[0m\u001b[1;33m\u001b[0m\u001b[0m\n\u001b[1;32m-> 1195\u001b[1;33m         \u001b[0mgraph\u001b[0m \u001b[1;33m=\u001b[0m \u001b[0mjson_graph\u001b[0m\u001b[1;33m.\u001b[0m\u001b[0mnode_link_graph\u001b[0m\u001b[1;33m(\u001b[0m\u001b[0mnx_graph\u001b[0m\u001b[1;33m)\u001b[0m\u001b[1;33m\u001b[0m\u001b[1;33m\u001b[0m\u001b[0m\n\u001b[0m\u001b[0;32m   1196\u001b[0m \u001b[1;33m\u001b[0m\u001b[0m\n\u001b[0;32m   1197\u001b[0m         \u001b[1;31m# Replace graph node indices with corresponding nodes from node_map\u001b[0m\u001b[1;33m\u001b[0m\u001b[1;33m\u001b[0m\u001b[1;33m\u001b[0m\u001b[0m\n",
      "\u001b[1;32mc:\\miniforge3\\envs\\sleap_dev_latest\\lib\\site-packages\\networkx\\readwrite\\json_graph\\node_link.py\u001b[0m in \u001b[0;36mnode_link_graph\u001b[1;34m(data, directed, multigraph, attrs)\u001b[0m\n\u001b[0;32m    167\u001b[0m         \u001b[0mnode\u001b[0m \u001b[1;33m=\u001b[0m \u001b[0mto_tuple\u001b[0m\u001b[1;33m(\u001b[0m\u001b[0md\u001b[0m\u001b[1;33m.\u001b[0m\u001b[0mget\u001b[0m\u001b[1;33m(\u001b[0m\u001b[0mname\u001b[0m\u001b[1;33m,\u001b[0m \u001b[0mnext\u001b[0m\u001b[1;33m(\u001b[0m\u001b[0mc\u001b[0m\u001b[1;33m)\u001b[0m\u001b[1;33m)\u001b[0m\u001b[1;33m)\u001b[0m\u001b[1;33m\u001b[0m\u001b[1;33m\u001b[0m\u001b[0m\n\u001b[0;32m    168\u001b[0m         \u001b[0mnodedata\u001b[0m \u001b[1;33m=\u001b[0m \u001b[1;33m{\u001b[0m\u001b[0mstr\u001b[0m\u001b[1;33m(\u001b[0m\u001b[0mk\u001b[0m\u001b[1;33m)\u001b[0m\u001b[1;33m:\u001b[0m \u001b[0mv\u001b[0m \u001b[1;32mfor\u001b[0m \u001b[0mk\u001b[0m\u001b[1;33m,\u001b[0m \u001b[0mv\u001b[0m \u001b[1;32min\u001b[0m \u001b[0md\u001b[0m\u001b[1;33m.\u001b[0m\u001b[0mitems\u001b[0m\u001b[1;33m(\u001b[0m\u001b[1;33m)\u001b[0m \u001b[1;32mif\u001b[0m \u001b[0mk\u001b[0m \u001b[1;33m!=\u001b[0m \u001b[0mname\u001b[0m\u001b[1;33m}\u001b[0m\u001b[1;33m\u001b[0m\u001b[1;33m\u001b[0m\u001b[0m\n\u001b[1;32m--> 169\u001b[1;33m         \u001b[0mgraph\u001b[0m\u001b[1;33m.\u001b[0m\u001b[0madd_node\u001b[0m\u001b[1;33m(\u001b[0m\u001b[0mnode\u001b[0m\u001b[1;33m,\u001b[0m \u001b[1;33m**\u001b[0m\u001b[0mnodedata\u001b[0m\u001b[1;33m)\u001b[0m\u001b[1;33m\u001b[0m\u001b[1;33m\u001b[0m\u001b[0m\n\u001b[0m\u001b[0;32m    170\u001b[0m     \u001b[1;32mfor\u001b[0m \u001b[0md\u001b[0m \u001b[1;32min\u001b[0m \u001b[0mdata\u001b[0m\u001b[1;33m[\u001b[0m\u001b[0mlinks\u001b[0m\u001b[1;33m]\u001b[0m\u001b[1;33m:\u001b[0m\u001b[1;33m\u001b[0m\u001b[1;33m\u001b[0m\u001b[0m\n\u001b[0;32m    171\u001b[0m         \u001b[0msrc\u001b[0m \u001b[1;33m=\u001b[0m \u001b[0mtuple\u001b[0m\u001b[1;33m(\u001b[0m\u001b[0md\u001b[0m\u001b[1;33m[\u001b[0m\u001b[0msource\u001b[0m\u001b[1;33m]\u001b[0m\u001b[1;33m)\u001b[0m \u001b[1;32mif\u001b[0m \u001b[0misinstance\u001b[0m\u001b[1;33m(\u001b[0m\u001b[0md\u001b[0m\u001b[1;33m[\u001b[0m\u001b[0msource\u001b[0m\u001b[1;33m]\u001b[0m\u001b[1;33m,\u001b[0m \u001b[0mlist\u001b[0m\u001b[1;33m)\u001b[0m \u001b[1;32melse\u001b[0m \u001b[0md\u001b[0m\u001b[1;33m[\u001b[0m\u001b[0msource\u001b[0m\u001b[1;33m]\u001b[0m\u001b[1;33m\u001b[0m\u001b[1;33m\u001b[0m\u001b[0m\n",
      "\u001b[1;32mc:\\miniforge3\\envs\\sleap_dev_latest\\lib\\site-packages\\networkx\\classes\\digraph.py\u001b[0m in \u001b[0;36madd_node\u001b[1;34m(self, node_for_adding, **attr)\u001b[0m\n\u001b[0;32m    416\u001b[0m         \u001b[0mdoesn\u001b[0m\u001b[0;31m'\u001b[0m\u001b[0mt\u001b[0m \u001b[0mchange\u001b[0m \u001b[0mon\u001b[0m \u001b[0mmutables\u001b[0m\u001b[1;33m.\u001b[0m\u001b[1;33m\u001b[0m\u001b[1;33m\u001b[0m\u001b[0m\n\u001b[0;32m    417\u001b[0m         \"\"\"\n\u001b[1;32m--> 418\u001b[1;33m         \u001b[1;32mif\u001b[0m \u001b[0mnode_for_adding\u001b[0m \u001b[1;32mnot\u001b[0m \u001b[1;32min\u001b[0m \u001b[0mself\u001b[0m\u001b[1;33m.\u001b[0m\u001b[0m_succ\u001b[0m\u001b[1;33m:\u001b[0m\u001b[1;33m\u001b[0m\u001b[1;33m\u001b[0m\u001b[0m\n\u001b[0m\u001b[0;32m    419\u001b[0m             \u001b[1;32mif\u001b[0m \u001b[0mnode_for_adding\u001b[0m \u001b[1;32mis\u001b[0m \u001b[1;32mNone\u001b[0m\u001b[1;33m:\u001b[0m\u001b[1;33m\u001b[0m\u001b[1;33m\u001b[0m\u001b[0m\n\u001b[0;32m    420\u001b[0m                 \u001b[1;32mraise\u001b[0m \u001b[0mValueError\u001b[0m\u001b[1;33m(\u001b[0m\u001b[1;34m\"None cannot be a node\"\u001b[0m\u001b[1;33m)\u001b[0m\u001b[1;33m\u001b[0m\u001b[1;33m\u001b[0m\u001b[0m\n",
      "\u001b[1;31mTypeError\u001b[0m: unhashable type: 'dict'"
     ]
    }
   ],
   "source": [
    "# Load the json file\n",
    "test_skeleton_from_json = Skeleton.from_json(test_skeleton_json)\n",
    "print(f'test_skeleton_from_json: {test_skeleton_from_json}')"
   ]
  },
  {
   "cell_type": "code",
   "execution_count": 15,
   "metadata": {},
   "outputs": [],
   "source": [
    "# # Read json file from sleap-io\n",
    "# sleap_io_json_path = r\"C:\\repos\\sleap-io\\skeletons.json\"\n",
    "\n",
    "# with open(sleap_io_json_path, 'r') as f:\n",
    "#     sleap_io_json = f.read()\n",
    "\n",
    "# sleap_io_json"
   ]
  },
  {
   "cell_type": "code",
   "execution_count": 9,
   "metadata": {},
   "outputs": [
    {
     "data": {
      "text/plain": [
       "Skeleton(name='Skeleton-0', description='None', nodes=['A', 'B'], edges=[('A', 'B')], symmetries=[])"
      ]
     },
     "execution_count": 9,
     "metadata": {},
     "output_type": "execute_result"
    }
   ],
   "source": [
    "# Load skeleton from json made with dev branch\n",
    "skeleton_from_dev_path = r\"skeleton_from_labels_dev_branch.json\"\n",
    "skeleton_from_dev = Skeleton.load_json(skeleton_from_dev_path)\n",
    "\n",
    "skeleton_from_dev"
   ]
  },
  {
   "cell_type": "code",
   "execution_count": 9,
   "metadata": {},
   "outputs": [
    {
     "data": {
      "text/plain": [
       "Skeleton(name='Skeleton-0', description='None', nodes=['A', 'B'], edges=[('A', 'B')], symmetries=[])"
      ]
     },
     "execution_count": 9,
     "metadata": {},
     "output_type": "execute_result"
    }
   ],
   "source": [
    "# Load skeleton from json made with code changes\n",
    "skeleton_from_code_changes_path = r\"test_skeleton_serialization.json\"\n",
    "skeleton_from_code_changes = Skeleton.load_json(skeleton_from_code_changes_path)\n",
    "\n",
    "skeleton_from_code_changes"
   ]
  },
  {
   "cell_type": "code",
   "execution_count": null,
   "metadata": {},
   "outputs": [],
   "source": []
  },
  {
   "cell_type": "code",
   "execution_count": null,
   "metadata": {},
   "outputs": [],
   "source": []
  }
 ],
 "metadata": {
  "kernelspec": {
   "display_name": "sleap_dev_1.4.1a2",
   "language": "python",
   "name": "python3"
  },
  "language_info": {
   "codemirror_mode": {
    "name": "ipython",
    "version": 3
   },
   "file_extension": ".py",
   "mimetype": "text/x-python",
   "name": "python",
   "nbconvert_exporter": "python",
   "pygments_lexer": "ipython3",
   "version": "3.7.12"
  }
 },
 "nbformat": 4,
 "nbformat_minor": 2
}
