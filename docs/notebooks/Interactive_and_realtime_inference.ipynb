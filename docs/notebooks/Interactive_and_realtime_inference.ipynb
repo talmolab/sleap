{
  "cells": [
    {
      "cell_type": "markdown",
      "metadata": {
        "colab_type": "text",
        "id": "view-in-github"
      },
      "source": [
        "<a href=\"https://colab.research.google.com/github/talmolab/sleap/blob/main/docs/notebooks/Interactive_and_realtime_inference.ipynb\" target=\"_parent\"><img src=\"https://colab.research.google.com/assets/colab-badge.svg\" alt=\"Open In Colab\"/></a>"
      ]
    },
    {
      "cell_type": "markdown",
      "metadata": {
        "id": "DpvQa3M3n7jC"
      },
      "source": [
        "# Interactive and realtime inference\n",
        "\n",
        "For most workflows, using the [`sleap-track` CLI](https://sleap.ai/guides/cli.html#sleap-track) is probably the most convenient option, but if you're developing a custom application you can take advantage of SLEAP's inference API to use your trained models in your own custom scripts.\n",
        "\n",
        "In this notebook we will explore how to predict poses from raw images in pure Python, and do some basic benchmarking on a simulated realtime predictor that could be used to enable closed-loop experiments."
      ]
    },
    {
      "cell_type": "markdown",
      "metadata": {
        "id": "BeeqrLbdupmE"
      },
      "source": [
        "## 1. Setup SLEAP\n",
        "\n",
        "Run this cell first to install SLEAP. If you get a dependency error in subsequent cells, just click **Runtime** → **Restart runtime** to reload the packages.\n",
        "\n",
        "Don't forget to set **Runtime** → **Change runtime type** → **GPU** as the accelerator."
      ]
    },
    {
      "cell_type": "code",
      "execution_count": 1,
      "metadata": {
        "colab": {
          "base_uri": "https://localhost:8080/"
        },
        "id": "BYxJ2rJOMW8B",
        "outputId": "6ef53f4c-5074-4f41-8523-3d989a0f2844"
      },
      "outputs": [
        {
          "name": "stdout",
          "output_type": "stream",
          "text": [
            "\u001b[31mERROR: Cannot uninstall opencv-python 4.6.0, RECORD file not found. Hint: The package was installed by conda.\u001b[0m\u001b[31m\n",
            "\u001b[0m\u001b[31mERROR: Cannot uninstall shiboken2 5.15.6, RECORD file not found. You might be able to recover from this via: 'pip install --force-reinstall --no-deps shiboken2==5.15.6'.\u001b[0m\u001b[31m\n",
            "\u001b[0m"
          ]
        }
      ],
      "source": [
        "# This should take care of all the dependencies on colab:\n",
        "!pip uninstall -qqq -y opencv-python opencv-contrib-python\n",
        "!pip install -qqq sleap==1.3.1\n",
        "\n",
        "\n",
        "# But to do it locally, we'd recommend the conda package (available on Windows + Linux):\n",
        "# conda create -n sleap -c sleap -c conda-forge -c nvidia sleap"
      ]
    },
    {
      "cell_type": "markdown",
      "metadata": {
        "id": "qjfoeOZvpV8o"
      },
      "source": [
        "Import SLEAP to make sure it installed correctly and print out some information about the system:"
      ]
    },
    {
      "cell_type": "code",
      "execution_count": 2,
      "metadata": {
        "colab": {
          "base_uri": "https://localhost:8080/"
        },
        "id": "jftAOyvvuQeh",
        "outputId": "5c415dbc-7ecf-46db-8271-c17cc89552a4"
      },
      "outputs": [
        {
          "name": "stdout",
          "output_type": "stream",
          "text": [
            "SLEAP: 1.3.2\n",
            "TensorFlow: 2.7.0\n",
            "Numpy: 1.21.5\n",
            "Python: 3.7.12\n",
            "OS: Linux-5.15.0-78-generic-x86_64-with-debian-bookworm-sid\n",
            "GPUs: 1/1 available\n",
            "  Device: /physical_device:GPU:0\n",
            "         Available: True\n",
            "        Initalized: False\n",
            "     Memory growth: True\n"
          ]
        },
        {
          "name": "stderr",
          "output_type": "stream",
          "text": [
            "2023-09-01 13:56:37.731425: I tensorflow/stream_executor/cuda/cuda_gpu_executor.cc:939] successful NUMA node read from SysFS had negative value (-1), but there must be at least one NUMA node, so returning NUMA node zero\n",
            "2023-09-01 13:56:37.735933: I tensorflow/stream_executor/cuda/cuda_gpu_executor.cc:939] successful NUMA node read from SysFS had negative value (-1), but there must be at least one NUMA node, so returning NUMA node zero\n",
            "2023-09-01 13:56:37.736867: I tensorflow/stream_executor/cuda/cuda_gpu_executor.cc:939] successful NUMA node read from SysFS had negative value (-1), but there must be at least one NUMA node, so returning NUMA node zero\n"
          ]
        }
      ],
      "source": [
        "import sleap\n",
        "sleap.disable_preallocation()  # This initializes the GPU and prevents TensorFlow from filling the entire GPU memory\n",
        "sleap.versions()\n",
        "sleap.system_summary()"
      ]
    },
    {
      "cell_type": "markdown",
      "metadata": {
        "id": "wSdTJYOdu4L6"
      },
      "source": [
        "## 2. Setup data\n",
        "\n",
        "Before we start, let's download a raw video and a set of trained top-down ID models that we'll use to build our application around."
      ]
    },
    {
      "cell_type": "code",
      "execution_count": 3,
      "metadata": {
        "colab": {
          "base_uri": "https://localhost:8080/"
        },
        "id": "sDIF3RKdM86u",
        "outputId": "5d435b70-d296-4e19-b1b1-0cd9d509e9f3"
      },
      "outputs": [
        {
          "name": "stdout",
          "output_type": "stream",
          "text": [
            "  % Total    % Received % Xferd  Average Speed   Time    Time     Time  Current\n",
            "                                 Dload  Upload   Total   Spent    Left  Speed\n",
            "100 81.3M  100 81.3M    0     0  23.7M      0  0:00:03  0:00:03 --:--:-- 23.7M\n",
            "  % Total    % Received % Xferd  Average Speed   Time    Time     Time  Current\n",
            "                                 Dload  Upload   Total   Spent    Left  Speed\n",
            "100 6223k  100 6223k    0     0  30.2M      0 --:--:-- --:--:-- --:--:-- 30.3M\n",
            "  % Total    % Received % Xferd  Average Speed   Time    Time     Time  Current\n",
            "                                 Dload  Upload   Total   Spent    Left  Speed\n",
            "100 32.2M  100 32.2M    0     0  14.5M      0  0:00:02  0:00:02 --:--:-- 14.5M\n",
            "total 1.1G\n",
            "drwxrwxr-x  5 talmolab talmolab 4.0K Sep  1 13:56  .\n",
            "drwxrwxr-x 10 talmolab talmolab 4.0K Aug 31 15:43  ..\n",
            "-rw-rw-r--  1 talmolab talmolab  82M May 20  2021  190719_090330_wt_18159206_rig1.2@15000-17560.mp4.1\n",
            "-rw-rw-r--  1 talmolab talmolab 1.6M May 20  2021  190719_090330_wt_18159206_rig1.2@15000-17560.slp\n",
            "-rw-rw-r--  1 talmolab talmolab 1.6M May 20  2021  190719_090330_wt_18159206_rig1.2@15000-17560.slp.1\n",
            "drwxrwxr-x  2 talmolab talmolab 4.0K Jun 20 10:00  analysis_example\n",
            "-rw-rw-r--  1 talmolab talmolab 713K Jun 20 10:00  Analysis_examples.ipynb\n",
            "-rw-rw-r--  1 talmolab talmolab  33M Sep  1 13:56  centered_instance_id_model.zip\n",
            "-rw-rw-r--  1 talmolab talmolab 6.1M May 20  2021 'centroid.fast.210504_182918.centroid.n=1800.zip'\n",
            "-rw-rw-r--  1 talmolab talmolab 6.1M May 20  2021 'centroid.fast.210504_182918.centroid.n=1800.zip.1'\n",
            "-rw-rw-r--  1 talmolab talmolab 6.1M Sep  1 13:56  centroid_model.zip\n",
            "drwxrwxr-x  4 talmolab talmolab 4.0K Sep  1 13:30  dataset\n",
            "-rw-rw-r--  1 talmolab talmolab 481K Sep  1 13:49  Data_structures.ipynb\n",
            "-rw-rw-r--  1 talmolab talmolab 661K Aug 31 12:52  fly_clip.mp4\n",
            "-rw-rw-r--  1 talmolab talmolab 4.1K Jun 20 10:00  index.rst\n",
            "-rw-rw-r--  1 talmolab talmolab 197K Sep  1 13:53  Interactive_and_realtime_inference.ipynb\n",
            "-rw-rw-r--  1 talmolab talmolab 120K Aug 31 12:25  Interactive_and_resumable_training.ipynb\n",
            "-rw-rw-r--  1 talmolab talmolab 620M Aug 31 12:14  labels.pkg.slp\n",
            "-rw-rw-r--  1 talmolab talmolab 1.6M Aug 31 12:05  labels_with_images.pkg.slp\n",
            "-rw-rw-r--  1 talmolab talmolab 158K Aug 31 12:35  Model_evaluation.ipynb\n",
            "drwxrwxr-x  4 talmolab talmolab 4.0K Sep  1 13:39  models\n",
            "-rw-rw-r--  1 talmolab talmolab 157K Aug 31 12:52  Post_inference_tracking.ipynb\n",
            "-rw-rw-r--  1 talmolab talmolab 412K Aug 31 12:52  predictions.slp\n",
            "-rw-rw-r--  1 talmolab talmolab 422K Aug 31 12:52  retracked.slp\n",
            "-rw-rw-r--  1 talmolab talmolab  30M May 20  2021 'td_fast.210505_012601.centered_instance.n=1800.zip'\n",
            "-rw-rw-r--  1 talmolab talmolab  30M May 20  2021 'td_fast.210505_012601.centered_instance.n=1800.zip.1'\n",
            "-rw-rw-r--  1 talmolab talmolab  30M May 20  2021 'td_fast.210505_012601.centered_instance.n=1800.zip.2'\n",
            "-rw-rw-r--  1 talmolab talmolab  78M May  6  2021  test.pkg.slp\n",
            "-rw-rw-r--  1 talmolab talmolab  89M Sep  1 13:42  trained_models.zip\n",
            "-rw-rw-r--  1 talmolab talmolab  94K Sep  1 13:44  Training_and_inference_on_an_example_dataset.ipynb\n",
            "-rw-rw-r--  1 talmolab talmolab  12K Aug 31 11:39  Training_and_inference_using_Google_Drive.ipynb\n",
            "-rw-rw-r--  1 talmolab talmolab  82M Sep  1 13:56  video.mp4\n"
          ]
        }
      ],
      "source": [
        "!curl -L --output video.mp4 https://storage.googleapis.com/sleap-data/reference/flies13/190719_090330_wt_18159206_rig1.2%4015000-17560.mp4\n",
        "!curl -L --output centroid_model.zip https://storage.googleapis.com/sleap-data/reference/flies13/centroid.fast.210504_182918.centroid.n%3D1800.zip\n",
        "!curl -L --output centered_instance_id_model.zip https://storage.googleapis.com/sleap-data/reference/flies13/td_id.fast.v2.210519_111253.multi_class_topdown.n%3D1800.zip\n",
        "!ls -lah"
      ]
    },
    {
      "cell_type": "markdown",
      "metadata": {
        "id": "0edP4yp7PMJy"
      },
      "source": [
        "**Note:** These zip files just have the contents of standard SLEAP model folders that are generated during training."
      ]
    },
    {
      "cell_type": "markdown",
      "metadata": {
        "id": "-vYsPusvviiu"
      },
      "source": [
        "## 3. Interactive inference\n",
        "\n",
        "SLEAP provides a high-level API for performing inference in the form of `Predictor` classes specific to each approach/model type.\n",
        "\n",
        "To create one from a set of trained models, we can use the high-level `sleap.load_model()` function:"
      ]
    },
    {
      "cell_type": "code",
      "execution_count": 4,
      "metadata": {
        "id": "cC7IKtPDOktW"
      },
      "outputs": [
        {
          "name": "stderr",
          "output_type": "stream",
          "text": [
            "2023-09-01 13:57:04.806004: I tensorflow/core/platform/cpu_feature_guard.cc:151] This TensorFlow binary is optimized with oneAPI Deep Neural Network Library (oneDNN) to use the following CPU instructions in performance-critical operations:  AVX2 AVX512F FMA\n",
            "To enable them in other operations, rebuild TensorFlow with the appropriate compiler flags.\n",
            "2023-09-01 13:57:04.807011: I tensorflow/stream_executor/cuda/cuda_gpu_executor.cc:939] successful NUMA node read from SysFS had negative value (-1), but there must be at least one NUMA node, so returning NUMA node zero\n",
            "2023-09-01 13:57:04.807970: I tensorflow/stream_executor/cuda/cuda_gpu_executor.cc:939] successful NUMA node read from SysFS had negative value (-1), but there must be at least one NUMA node, so returning NUMA node zero\n",
            "2023-09-01 13:57:04.808962: I tensorflow/stream_executor/cuda/cuda_gpu_executor.cc:939] successful NUMA node read from SysFS had negative value (-1), but there must be at least one NUMA node, so returning NUMA node zero\n",
            "2023-09-01 13:57:05.103658: I tensorflow/stream_executor/cuda/cuda_gpu_executor.cc:939] successful NUMA node read from SysFS had negative value (-1), but there must be at least one NUMA node, so returning NUMA node zero\n",
            "2023-09-01 13:57:05.104377: I tensorflow/stream_executor/cuda/cuda_gpu_executor.cc:939] successful NUMA node read from SysFS had negative value (-1), but there must be at least one NUMA node, so returning NUMA node zero\n",
            "2023-09-01 13:57:05.105059: I tensorflow/stream_executor/cuda/cuda_gpu_executor.cc:939] successful NUMA node read from SysFS had negative value (-1), but there must be at least one NUMA node, so returning NUMA node zero\n",
            "2023-09-01 13:57:05.106019: I tensorflow/core/common_runtime/gpu/gpu_device.cc:1525] Created device /job:localhost/replica:0/task:0/device:GPU:0 with 21129 MB memory:  -> device: 0, name: NVIDIA RTX A5000, pci bus id: 0000:01:00.0, compute capability: 8.6\n"
          ]
        }
      ],
      "source": [
        "predictor = sleap.load_model([\"centroid_model.zip\", \"centered_instance_id_model.zip\"], batch_size=16)"
      ]
    },
    {
      "cell_type": "markdown",
      "metadata": {
        "id": "w7xGANT7PfmL"
      },
      "source": [
        "This function handles all the logic of loading trained models, reading the configurations used to train them, and constructs inference models that also include non-trainable operations like peak finding and instance grouping.\n",
        "\n",
        "Next, we'll load a video that we want to use for inference. SLEAP `Video` objects don't actually load the whole video into memory, they just provide a common numpy-like interface for reading from different file formats:"
      ]
    },
    {
      "cell_type": "code",
      "execution_count": 5,
      "metadata": {
        "colab": {
          "base_uri": "https://localhost:8080/"
        },
        "id": "CJ9-vuddPelx",
        "outputId": "9f09d46d-6808-471e-9aed-92a408b97b06"
      },
      "outputs": [
        {
          "data": {
            "text/plain": [
              "((2560, 1024, 1024, 1), dtype('uint8'))"
            ]
          },
          "execution_count": 5,
          "metadata": {},
          "output_type": "execute_result"
        }
      ],
      "source": [
        "video = sleap.load_video(\"video.mp4\")\n",
        "video.shape, video.dtype"
      ]
    },
    {
      "cell_type": "markdown",
      "metadata": {
        "id": "O3xA6cuTQ6sG"
      },
      "source": [
        "Our predictor is pretty flexible. It can handle a variety of different input formats, all of which will return a `Labels` object that contains all of our predictions:"
      ]
    },
    {
      "cell_type": "code",
      "execution_count": 6,
      "metadata": {},
      "outputs": [
        {
          "data": {
            "application/vnd.jupyter.widget-view+json": {
              "model_id": "0cc2e3a471764285a58d023906ba1f7a",
              "version_major": 2,
              "version_minor": 0
            },
            "text/plain": [
              "Output()"
            ]
          },
          "metadata": {},
          "output_type": "display_data"
        },
        {
          "name": "stdout",
          "output_type": "stream",
          "text": [
            "imgs.shape: (100, 1024, 1024, 1)\n"
          ]
        },
        {
          "name": "stderr",
          "output_type": "stream",
          "text": [
            "2023-09-01 13:57:13.455046: I tensorflow/stream_executor/cuda/cuda_dnn.cc:366] Loaded cuDNN version 8201\n"
          ]
        },
        {
          "name": "stderr",
          "output_type": "stream",
          "text": [
            "2023-09-01 13:57:15.358483: I tensorflow/stream_executor/cuda/cuda_blas.cc:1774] TensorFloat-32 will be used for the matrix multiplication. This will only be logged once.\n"
          ]
        },
        {
          "data": {
            "text/html": [
              "<pre style=\"white-space:pre;overflow-x:auto;line-height:normal;font-family:Menlo,'DejaVu Sans Mono',consolas,'Courier New',monospace\"></pre>\n"
            ],
            "text/plain": []
          },
          "metadata": {},
          "output_type": "display_data"
        },
        {
          "data": {
            "text/html": [
              "<pre style=\"white-space:pre;overflow-x:auto;line-height:normal;font-family:Menlo,'DejaVu Sans Mono',consolas,'Courier New',monospace\">\n",
              "</pre>\n"
            ],
            "text/plain": [
              "\n"
            ]
          },
          "metadata": {},
          "output_type": "display_data"
        },
        {
          "data": {
            "text/plain": [
              "Labels(labeled_frames=100, videos=1, skeletons=1, tracks=2)"
            ]
          },
          "execution_count": 6,
          "metadata": {},
          "output_type": "execute_result"
        }
      ],
      "source": [
        "# Load frames to a numpy array.\n",
        "imgs = video[:100]\n",
        "print(f\"imgs.shape: {imgs.shape}\")\n",
        "\n",
        "# Predict on numpy array.\n",
        "predictions = predictor.predict(imgs)\n",
        "predictions"
      ]
    },
    {
      "cell_type": "markdown",
      "metadata": {
        "id": "E8Qm3Y8ERrFb"
      },
      "source": [
        "We can then inspect the results of our predictor:"
      ]
    },
    {
      "cell_type": "code",
      "execution_count": 8,
      "metadata": {
        "colab": {
          "base_uri": "https://localhost:8080/",
          "height": 287
        },
        "id": "MhPh8uwaRFfT",
        "outputId": "29e5ae1f-bf9d-44ea-a2fe-573b51faaf67"
      },
      "outputs": [
        {
          "data": {
            "image/png": "[encoded data removed]",
            "text/plain": [
              "<Figure size 256x256 with 1 Axes>"
            ]
          },
          "metadata": {},
          "output_type": "display_data"
        }
      ],
      "source": [
        "# Visualize a frame.\n",
        "predictions[100].plot(scale=0.25)"
      ]
    },
    {
      "cell_type": "code",
      "execution_count": 9,
      "metadata": {
        "colab": {
          "base_uri": "https://localhost:8080/"
        },
        "id": "Xyz5qfrFR3Cd",
        "outputId": "203d483f-6e1b-4e1e-ff89-0dc62488edad"
      },
      "outputs": [
        {
          "data": {
            "text/plain": [
              "[PredictedInstance(video=Video(filename=video.mp4, shape=(2560, 1024, 1024, 1), backend=MediaVideo), frame_idx=100, points=[head: (212.5, 427.0, 0.94), thorax: (252.0, 433.1, 0.95), abdomen: (288.6, 439.3, 0.68), wingL: (304.5, 443.3, 0.88), wingR: (306.2, 435.8, 0.68), forelegL4: (216.2, 445.5, 0.88), forelegR4: (216.1, 410.0, 0.90), midlegL4: (244.4, 471.3, 0.90), midlegR4: (256.6, 408.9, 0.86), hindlegL4: (275.0, 459.2, 0.89), hindlegR4: (292.3, 412.0, 0.81), eyeL: (220.0, 438.0, 0.84), eyeR: (223.8, 417.5, 0.91)], score=0.99, track=Track(spawned_on=0, name='female'), tracking_score=0.00),\n",
              " PredictedInstance(video=Video(filename=video.mp4, shape=(2560, 1024, 1024, 1), backend=MediaVideo), frame_idx=100, points=[head: (313.7, 432.6, 0.87), thorax: (348.9, 427.9, 1.00), abdomen: (378.9, 425.8, 0.83), wingL: (397.0, 428.7, 0.89), wingR: (394.9, 420.7, 0.74), forelegL4: (307.4, 446.4, 0.88), forelegR4: (306.5, 422.5, 0.89), midlegL4: (341.6, 474.2, 0.97), midlegR4: (332.6, 386.3, 0.97), hindlegL4: (378.9, 458.8, 0.92), hindlegR4: (387.7, 394.8, 0.88), eyeL: (323.7, 442.1, 0.96), eyeR: (320.7, 420.8, 0.88)], score=0.99, track=Track(spawned_on=0, name='male'), tracking_score=0.00)]"
            ]
          },
          "execution_count": 9,
          "metadata": {},
          "output_type": "execute_result"
        }
      ],
      "source": [
        "# Inspect the contents of a single frame.\n",
        "labeled_frame = predictions[100]\n",
        "labeled_frame.instances"
      ]
    },
    {
      "cell_type": "code",
      "execution_count": 10,
      "metadata": {
        "colab": {
          "base_uri": "https://localhost:8080/"
        },
        "id": "FDMcaIwtR7he",
        "outputId": "df3ead74-4505-4680-de86-2dbd531145e1"
      },
      "outputs": [
        {
          "data": {
            "text/plain": [
              "rec.array([[212.51400757, 426.97024536],\n",
              "           [251.97747803, 433.08648682],\n",
              "           [288.64355469, 439.3086853 ],\n",
              "           [304.53396606, 443.33477783],\n",
              "           [306.20336914, 435.77227783],\n",
              "           [216.24688721, 445.47549438],\n",
              "           [216.14550781, 409.98342896],\n",
              "           [244.39497375, 471.31561279],\n",
              "           [256.61740112, 408.89056396],\n",
              "           [274.97470093, 459.1831665 ],\n",
              "           [292.2600708 , 411.95904541],\n",
              "           [219.98565674, 437.97906494],\n",
              "           [223.75566101, 417.5496521 ]],\n",
              "          dtype=float64)"
            ]
          },
          "execution_count": 10,
          "metadata": {},
          "output_type": "execute_result"
        }
      ],
      "source": [
        "# Convert an instance to a numpy array:\n",
        "labeled_frame[0].numpy()"
      ]
    },
    {
      "cell_type": "markdown",
      "metadata": {
        "id": "c6kRMZDYSKIp"
      },
      "source": [
        "What if we don't want or need the inference results wrapped in the SLEAP structures?\n",
        "\n",
        "By using the low-level inference model, we can actually go directly from image to numpy arrays of our results:"
      ]
    },
    {
      "cell_type": "code",
      "execution_count": 11,
      "metadata": {
        "colab": {
          "base_uri": "https://localhost:8080/"
        },
        "id": "pWo_bG1HSJaJ",
        "outputId": "d22e30e9-13ae-466b-d94c-ce787c96a818"
      },
      "outputs": [
        {
          "name": "stdout",
          "output_type": "stream",
          "text": [
            "4/4 [==============================] - 2s 176ms/step\n"
          ]
        },
        {
          "data": {
            "text/plain": [
              "{'instance_peaks': array([[[[234.2224 , 430.62598],\n",
              "          [271.5043 , 436.13202],\n",
              "          [309.87125, 436.64966],\n",
              "          [324.12512, 438.3908 ],\n",
              "          [320.3458 , 435.9504 ],\n",
              "          [246.42352, 450.67786],\n",
              "          [242.37636, 413.81458],\n",
              "          [285.5624 , 460.22766],\n",
              "          [273.45117, 406.51895],\n",
              "          [      nan,       nan],\n",
              "          [      nan,       nan],\n",
              "          [241.9716 , 442.32303],\n",
              "          [245.46788, 421.90228]],\n",
              " \n",
              "         [[319.80017, 435.48407],\n",
              "          [351.93695, 434.0301 ],\n",
              "          [369.43228, 431.78564],\n",
              "          [393.89014, 481.0584 ],\n",
              "          [398.4241 , 429.79565],\n",
              "          [      nan,       nan],\n",
              "          [305.42896, 419.3896 ],\n",
              "          [325.67926, 475.0098 ],\n",
              "          [331.97974, 384.30814],\n",
              "          [363.66406, 473.9354 ],\n",
              "          [377.3852 , 398.13065],\n",
              "          [328.40244, 445.51434],\n",
              "          [328.1667 , 423.94733]]],\n",
              " \n",
              " \n",
              "        [[[234.36913, 430.38037],\n",
              "          [271.65576, 436.0479 ],\n",
              "          [311.6751 , 437.00995],\n",
              "          [324.48315, 438.1421 ],\n",
              "          [322.20544, 435.06784],\n",
              "          [246.43257, 450.61487],\n",
              "          [242.3986 , 413.8269 ],\n",
              "          [285.565  , 460.00977],\n",
              "          [273.78204, 406.46442],\n",
              "          [      nan,       nan],\n",
              "          [      nan,       nan],\n",
              "          [242.11816, 442.0634 ],\n",
              "          [245.55441, 421.7281 ]],\n",
              " \n",
              "         [[320.03793, 435.2389 ],\n",
              "          [353.87274, 434.77695],\n",
              "          [370.67218, 432.9711 ],\n",
              "          [393.91922, 481.09735],\n",
              "          [399.77133, 431.25983],\n",
              "          [      nan,       nan],\n",
              "          [308.409  , 421.48993],\n",
              "          [325.82016, 474.90115],\n",
              "          [331.94632, 385.0652 ],\n",
              "          [363.65408, 473.70728],\n",
              "          [384.68225, 399.30194],\n",
              "          [328.72806, 445.15356],\n",
              "          [328.48532, 423.624  ]]],\n",
              " \n",
              " \n",
              "        [[[234.5559 , 430.06238],\n",
              "          [271.8775 , 435.9898 ],\n",
              "          [312.13086, 438.16318],\n",
              "          [324.77222, 437.65994],\n",
              "          [322.40115, 434.7244 ],\n",
              "          [246.44681, 450.51874],\n",
              "          [242.45566, 413.7617 ],\n",
              "          [285.8958 , 460.56442],\n",
              "          [273.66855, 406.2377 ],\n",
              "          [      nan,       nan],\n",
              "          [      nan,       nan],\n",
              "          [242.26588, 441.80545],\n",
              "          [245.77664, 420.7662 ]],\n",
              " \n",
              "         [[320.46994, 435.2546 ],\n",
              "          [354.89484, 434.93176],\n",
              "          [372.25574, 433.46127],\n",
              "          [394.40717, 479.5797 ],\n",
              "          [400.30173, 431.96054],\n",
              "          [306.9821 , 449.3157 ],\n",
              "          [308.8817 , 421.52148],\n",
              "          [325.98843, 474.9167 ],\n",
              "          [332.17917, 385.04684],\n",
              "          [363.0318 , 473.50616],\n",
              "          [391.05493, 396.85666],\n",
              "          [329.16904, 445.04953],\n",
              "          [328.89996, 423.52533]]],\n",
              " \n",
              " \n",
              "        [[[234.65547, 429.6946 ],\n",
              "          [272.38303, 435.68842],\n",
              "          [311.04352, 437.86963],\n",
              "          [324.80847, 437.3792 ],\n",
              "          [322.84747, 433.93973],\n",
              "          [246.71852, 451.2873 ],\n",
              "          [242.57388, 413.58414],\n",
              "          [286.164  , 461.83655],\n",
              "          [272.8726 , 406.21753],\n",
              "          [      nan,       nan],\n",
              "          [      nan,       nan],\n",
              "          [242.43861, 441.46246],\n",
              "          [245.25829, 420.48416]],\n",
              " \n",
              "         [[320.7713 , 433.55927],\n",
              "          [356.25912, 432.81424],\n",
              "          [372.98462, 432.9266 ],\n",
              "          [402.0365 , 465.378  ],\n",
              "          [400.8439 , 431.7685 ],\n",
              "          [      nan,       nan],\n",
              "          [310.4258 , 422.7895 ],\n",
              "          [325.16397, 474.86514],\n",
              "          [332.16724, 384.9967 ],\n",
              "          [362.87766, 473.12836],\n",
              "          [390.43555, 393.69998],\n",
              "          [330.20596, 443.4066 ],\n",
              "          [329.0497 , 421.68896]]],\n",
              " \n",
              " \n",
              "        [[[234.51591, 429.5735 ],\n",
              "          [272.3791 , 435.4755 ],\n",
              "          [310.74457, 436.20264],\n",
              "          [325.24997, 437.69904],\n",
              "          [323.1339 , 433.8241 ],\n",
              "          [246.75269, 451.22192],\n",
              "          [242.58466, 413.53275],\n",
              "          [286.0668 , 461.6229 ],\n",
              "          [272.87787, 406.2068 ],\n",
              "          [      nan,       nan],\n",
              "          [      nan,       nan],\n",
              "          [242.3858 , 441.31342],\n",
              "          [245.15892, 420.27942]],\n",
              " \n",
              "         [[320.91632, 432.5178 ],\n",
              "          [356.588  , 432.3604 ],\n",
              "          [374.51236, 432.42508],\n",
              "          [405.0515 , 450.2759 ],\n",
              "          [401.2467 , 432.2713 ],\n",
              "          [314.74677, 442.78735],\n",
              "          [312.76758, 422.29553],\n",
              "          [325.20752, 474.6215 ],\n",
              "          [332.2873 , 384.86606],\n",
              "          [362.8446 , 472.95822],\n",
              "          [388.92188, 394.203  ],\n",
              "          [329.54233, 442.43842],\n",
              "          [329.1192 , 420.79416]]],\n",
              " \n",
              " \n",
              "        [[[234.54964, 429.56854],\n",
              "          [272.30457, 435.13345],\n",
              "          [309.08594, 434.02444],\n",
              "          [325.13245, 437.11148],\n",
              "          [324.71674, 431.81714],\n",
              "          [246.79828, 450.9629 ],\n",
              "          [242.6766 , 413.53745],\n",
              "          [286.09372, 461.14362],\n",
              "          [272.87155, 406.23718],\n",
              "          [      nan,       nan],\n",
              "          [      nan,       nan],\n",
              "          [242.4111 , 441.2425 ],\n",
              "          [245.13495, 420.83694]],\n",
              " \n",
              "         [[320.7404 , 430.43884],\n",
              "          [356.4725 , 431.68488],\n",
              "          [375.05853, 431.87177],\n",
              "          [404.3775 , 451.92688],\n",
              "          [401.39508, 431.9776 ],\n",
              "          [      nan,       nan],\n",
              "          [312.77365, 421.6409 ],\n",
              "          [325.17343, 474.26575],\n",
              "          [331.44904, 384.56747],\n",
              "          [363.05463, 472.54587],\n",
              "          [388.72284, 394.13287],\n",
              "          [330.25458, 440.28958],\n",
              "          [328.9332 , 419.74493]]],\n",
              " \n",
              " \n",
              "        [[[234.15704, 429.3947 ],\n",
              "          [272.1558 , 435.1859 ],\n",
              "          [310.46423, 435.5753 ],\n",
              "          [324.42407, 437.18854],\n",
              "          [322.80786, 433.41486],\n",
              "          [246.72241, 450.9671 ],\n",
              "          [242.64005, 413.65726],\n",
              "          [285.9537 , 461.01648],\n",
              "          [272.73447, 406.31635],\n",
              "          [305.89285, 449.9849 ],\n",
              "          [      nan,       nan],\n",
              "          [241.21112, 441.0713 ],\n",
              "          [244.77327, 419.9886 ]],\n",
              " \n",
              "         [[321.03162, 429.8643 ],\n",
              "          [356.5856 , 430.9501 ],\n",
              "          [377.2166 , 431.29108],\n",
              "          [405.09204, 451.2633 ],\n",
              "          [402.97113, 431.12497],\n",
              "          [      nan,       nan],\n",
              "          [312.74753, 421.16742],\n",
              "          [325.3774 , 474.73508],\n",
              "          [331.5342 , 384.97403],\n",
              "          [378.56894, 469.3632 ],\n",
              "          [388.81372, 393.89886],\n",
              "          [330.641  , 439.67194],\n",
              "          [329.04425, 418.99023]]],\n",
              " \n",
              " \n",
              "        [[[232.79128, 428.2476 ],\n",
              "          [271.7884 , 435.45706],\n",
              "          [310.26096, 437.58252],\n",
              "          [322.67697, 439.28253],\n",
              "          [322.35138, 435.4916 ],\n",
              "          [246.49533, 451.1817 ],\n",
              "          [242.4297 , 413.56104],\n",
              "          [286.01126, 461.4526 ],\n",
              "          [272.72516, 406.3869 ],\n",
              "          [      nan,       nan],\n",
              "          [284.4912 , 408.79095],\n",
              "          [240.58961, 440.1936 ],\n",
              "          [244.4464 , 420.00543]],\n",
              " \n",
              "         [[322.69318, 430.96207],\n",
              "          [358.88284, 430.98035],\n",
              "          [379.26816, 431.0259 ],\n",
              "          [405.7312 , 449.5473 ],\n",
              "          [405.13306, 431.02057],\n",
              "          [      nan,       nan],\n",
              "          [309.64542, 421.59024],\n",
              "          [325.46237, 474.79062],\n",
              "          [331.63318, 384.9981 ],\n",
              "          [390.9735 , 466.93915],\n",
              "          [388.87518, 393.89645],\n",
              "          [331.4858 , 440.98822],\n",
              "          [330.72357, 419.30713]]],\n",
              " \n",
              " \n",
              "        [[[232.9138 , 428.26993],\n",
              "          [271.89908, 435.6341 ],\n",
              "          [310.36536, 437.9696 ],\n",
              "          [322.63763, 439.87323],\n",
              "          [322.4065 , 435.7932 ],\n",
              "          [246.48575, 451.27322],\n",
              "          [242.48721, 413.6446 ],\n",
              "          [285.74454, 460.08987],\n",
              "          [272.75647, 406.338  ],\n",
              "          [      nan,       nan],\n",
              "          [320.82465, 422.17297],\n",
              "          [240.64159, 440.22705],\n",
              "          [244.54178, 420.04788]],\n",
              " \n",
              "         [[322.2764 , 429.7331 ],\n",
              "          [359.43756, 429.0462 ],\n",
              "          [379.8793 , 429.56253],\n",
              "          [407.32346, 448.95087],\n",
              "          [405.74594, 429.27792],\n",
              "          [315.46356, 441.38046],\n",
              "          [309.48642, 421.8147 ],\n",
              "          [325.63016, 474.81934],\n",
              "          [331.73767, 385.03244],\n",
              "          [399.19778, 461.1395 ],\n",
              "          [388.32227, 394.00305],\n",
              "          [331.94138, 439.76627],\n",
              "          [330.20728, 418.03998]]],\n",
              " \n",
              " \n",
              "        [[[232.59984, 427.94275],\n",
              "          [271.68756, 435.925  ],\n",
              "          [309.74356, 438.45367],\n",
              "          [322.3493 , 441.94934],\n",
              "          [322.39355, 436.09885],\n",
              "          [246.09349, 450.45755],\n",
              "          [242.331  , 413.8041 ],\n",
              "          [284.40057, 460.55066],\n",
              "          [273.6091 , 406.43307],\n",
              "          [286.35394, 459.9949 ],\n",
              "          [      nan,       nan],\n",
              "          [240.04814, 440.10544],\n",
              "          [244.36105, 419.95673]],\n",
              " \n",
              "         [[322.50397, 428.86414],\n",
              "          [359.65952, 428.01282],\n",
              "          [381.80063, 428.2879 ],\n",
              "          [407.9239 , 446.02728],\n",
              "          [406.27682, 428.24774],\n",
              "          [317.42343, 444.4193 ],\n",
              "          [308.38232, 422.35754],\n",
              "          [325.6553 , 474.45853],\n",
              "          [331.8156 , 384.7812 ],\n",
              "          [399.62988, 456.58368],\n",
              "          [388.52002, 394.27118],\n",
              "          [332.3299 , 438.78006],\n",
              "          [330.43085, 417.03174]]],\n",
              " \n",
              " \n",
              "        [[[232.25208, 427.7414 ],\n",
              "          [271.57523, 436.99503],\n",
              "          [308.347  , 440.97897],\n",
              "          [321.64392, 445.52814],\n",
              "          [322.16394, 439.4637 ],\n",
              "          [229.9819 , 444.81857],\n",
              "          [242.35481, 413.535  ],\n",
              "          [284.59384, 461.70065],\n",
              "          [273.50806, 406.95544],\n",
              "          [286.72635, 460.96436],\n",
              "          [314.3465 , 428.5469 ],\n",
              "          [239.56883, 440.8733 ],\n",
              "          [244.04318, 420.60315]],\n",
              " \n",
              "         [[324.36966, 429.4342 ],\n",
              "          [360.08127, 427.41803],\n",
              "          [384.283  , 427.4751 ],\n",
              "          [408.8785 , 443.59448],\n",
              "          [408.36377, 425.55792],\n",
              "          [316.73703, 445.6411 ],\n",
              "          [308.78436, 421.899  ],\n",
              "          [325.92154, 474.19464],\n",
              "          [331.91168, 385.32022],\n",
              "          [399.73245, 457.32578],\n",
              "          [388.57062, 394.18298],\n",
              "          [334.3139 , 438.40005],\n",
              "          [331.89133, 417.64728]]],\n",
              " \n",
              " \n",
              "        [[[232.70679, 428.36255],\n",
              "          [272.08994, 436.64023],\n",
              "          [310.14267, 440.50543],\n",
              "          [322.68262, 444.5147 ],\n",
              "          [322.82147, 438.87054],\n",
              "          [224.32256, 448.4768 ],\n",
              "          [242.57848, 413.34476],\n",
              "          [284.7278 , 461.26282],\n",
              "          [273.8772 , 406.77335],\n",
              "          [286.55972, 460.77054],\n",
              "          [      nan,       nan],\n",
              "          [239.95602, 440.7761 ],\n",
              "          [244.31602, 420.40244]],\n",
              " \n",
              "         [[325.2043 , 429.92737],\n",
              "          [360.62262, 427.1631 ],\n",
              "          [386.82898, 425.76257],\n",
              "          [410.35846, 440.0152 ],\n",
              "          [408.79132, 423.68118],\n",
              "          [318.88504, 445.35867],\n",
              "          [308.8374 , 421.72562],\n",
              "          [326.25244, 474.88055],\n",
              "          [332.2403 , 385.27567],\n",
              "          [399.44467, 457.21188],\n",
              "          [388.84778, 394.12372],\n",
              "          [335.362  , 439.4058 ],\n",
              "          [332.62274, 417.9344 ]]],\n",
              " \n",
              " \n",
              "        [[[232.79385, 428.12885],\n",
              "          [272.08496, 435.77728],\n",
              "          [310.3099 , 437.81348],\n",
              "          [324.31982, 440.3584 ],\n",
              "          [324.60254, 434.39813],\n",
              "          [222.91586, 451.43195],\n",
              "          [242.6026 , 413.74078],\n",
              "          [284.7489 , 460.09384],\n",
              "          [273.8778 , 406.4865 ],\n",
              "          [287.56982, 459.68353],\n",
              "          [322.8655 , 421.80096],\n",
              "          [240.19046, 440.23196],\n",
              "          [244.46782, 419.99805]],\n",
              " \n",
              "         [[325.60196, 431.36603],\n",
              "          [360.8261 , 427.19696],\n",
              "          [387.17218, 425.47867],\n",
              "          [410.81366, 438.09143],\n",
              "          [408.99658, 422.15668],\n",
              "          [318.84363, 445.00012],\n",
              "          [311.57254, 423.2615 ],\n",
              "          [333.60617, 467.9318 ],\n",
              "          [331.6039 , 385.32465],\n",
              "          [399.44635, 457.16357],\n",
              "          [388.92133, 394.11078],\n",
              "          [336.72043, 439.8229 ],\n",
              "          [332.6642 , 419.31372]]],\n",
              " \n",
              " \n",
              "        [[[232.83435, 428.26373],\n",
              "          [272.11572, 435.61078],\n",
              "          [312.17926, 439.66278],\n",
              "          [322.83746, 442.15924],\n",
              "          [324.40552, 435.6441 ],\n",
              "          [225.87045, 451.41144],\n",
              "          [242.64131, 413.59937],\n",
              "          [285.06647, 460.35507],\n",
              "          [273.84183, 406.3719 ],\n",
              "          [      nan,       nan],\n",
              "          [322.41534, 422.61237],\n",
              "          [240.42723, 440.2208 ],\n",
              "          [244.4097 , 419.95218]],\n",
              " \n",
              "         [[327.3499 , 431.52005],\n",
              "          [361.313  , 425.36267],\n",
              "          [389.47607, 423.60114],\n",
              "          [411.6601 , 435.50894],\n",
              "          [409.51843, 419.6943 ],\n",
              "          [319.90283, 445.82428],\n",
              "          [313.70898, 423.5036 ],\n",
              "          [345.66882, 473.1757 ],\n",
              "          [331.79486, 385.46274],\n",
              "          [399.46533, 457.10553],\n",
              "          [388.24854, 394.009  ],\n",
              "          [337.8076 , 440.06436],\n",
              "          [333.29004, 419.49707]]],\n",
              " \n",
              " \n",
              "        [[[232.41422, 429.4673 ],\n",
              "          [271.8141 , 435.7682 ],\n",
              "          [310.01324, 439.98956],\n",
              "          [322.19714, 443.71683],\n",
              "          [324.71207, 434.39133],\n",
              "          [224.85786, 451.4593 ],\n",
              "          [242.5914 , 413.65207],\n",
              "          [285.67142, 461.77646],\n",
              "          [273.7307 , 406.5118 ],\n",
              "          [      nan,       nan],\n",
              "          [322.71594, 420.21155],\n",
              "          [239.99216, 440.57278],\n",
              "          [243.82819, 420.339  ]],\n",
              " \n",
              "         [[328.47983, 431.74188],\n",
              "          [363.93173, 425.2397 ],\n",
              "          [390.49423, 423.05255],\n",
              "          [413.68115, 433.6671 ],\n",
              "          [410.5454 , 419.09042],\n",
              "          [320.30078, 446.80396],\n",
              "          [313.82977, 421.7456 ],\n",
              "          [356.64886, 473.89554],\n",
              "          [331.84995, 385.1559 ],\n",
              "          [399.78146, 457.11206],\n",
              "          [388.5744 , 393.94125],\n",
              "          [339.9305 , 440.99496],\n",
              "          [334.5468 , 419.42017]]],\n",
              " \n",
              " \n",
              "        [[[232.05379, 430.01157],\n",
              "          [271.71146, 436.17175],\n",
              "          [310.08688, 438.66077],\n",
              "          [322.65015, 442.097  ],\n",
              "          [324.3269 , 434.45065],\n",
              "          [224.67744, 450.92798],\n",
              "          [242.56874, 413.94662],\n",
              "          [285.72803, 462.40347],\n",
              "          [273.67886, 406.66385],\n",
              "          [313.6862 , 456.8137 ],\n",
              "          [318.559  , 416.42374],\n",
              "          [239.62582, 441.11035],\n",
              "          [242.73026, 420.8417 ]],\n",
              " \n",
              "         [[329.30188, 431.77295],\n",
              "          [364.57666, 425.20844],\n",
              "          [391.32507, 421.96838],\n",
              "          [414.35016, 433.2262 ],\n",
              "          [411.04324, 418.17578],\n",
              "          [320.63538, 445.82654],\n",
              "          [315.36795, 420.21204],\n",
              "          [360.9988 , 471.7216 ],\n",
              "          [332.20065, 385.24988],\n",
              "          [399.20847, 456.9794 ],\n",
              "          [388.68896, 394.04962],\n",
              "          [340.75934, 441.0198 ],\n",
              "          [335.4428 , 419.33124]]]], dtype=float32),\n",
              " 'instance_peak_vals': array([[[0.9914025 , 0.9798533 , 0.7552497 , 0.45417705, 0.49756864,\n",
              "          0.8265212 , 0.89824754, 0.7941327 , 0.81785023, 0.05611448,\n",
              "          0.06403984, 0.88647026, 0.96359974],\n",
              "         [0.9033977 , 0.25969282, 0.6343123 , 0.8396003 , 0.7613073 ,\n",
              "          0.04938014, 0.84057474, 0.8820076 , 0.8816869 , 0.8243384 ,\n",
              "          0.33521563, 0.8434063 , 0.8127704 ]],\n",
              " \n",
              "        [[0.9598888 , 0.97341204, 0.6766811 , 0.35414153, 0.49778372,\n",
              "          0.883279  , 0.9271338 , 0.7989652 , 0.7574282 , 0.04437362,\n",
              "          0.06203796, 0.8609162 , 0.89723104],\n",
              "         [0.8814398 , 0.43337214, 0.6627722 , 0.8388201 , 0.71751094,\n",
              "          0.08318384, 0.7553143 , 0.8750135 , 0.8972577 , 0.85390973,\n",
              "          0.87049603, 0.84071857, 0.8853136 ]],\n",
              " \n",
              "        [[0.9277581 , 0.9876475 , 0.71884066, 0.36052382, 0.53324103,\n",
              "          0.89681005, 0.92098916, 0.8180281 , 0.6177351 , 0.0311976 ,\n",
              "          0.07055778, 0.83666444, 0.8608399 ],\n",
              "         [0.8386477 , 0.58817774, 0.72051835, 0.7902795 , 0.7041355 ,\n",
              "          0.2181147 , 0.76299024, 0.8507803 , 0.8824023 , 0.8892915 ,\n",
              "          0.8559173 , 0.83882904, 0.9163557 ]],\n",
              " \n",
              "        [[0.9318335 , 1.0054291 , 0.7037247 , 0.44776785, 0.55141157,\n",
              "          0.8751741 , 0.8788193 , 0.7378067 , 0.6061791 , 0.06516132,\n",
              "          0.145283  , 0.81688696, 0.88854957],\n",
              "         [0.85625255, 0.86021763, 0.82891417, 0.5004723 , 0.8896506 ,\n",
              "          0.15082283, 0.57127994, 0.86683005, 0.94244254, 0.8910252 ,\n",
              "          0.9375356 , 0.92730576, 0.8518939 ]],\n",
              " \n",
              "        [[0.9335175 , 0.98755246, 0.66180676, 0.5590857 , 0.5017098 ,\n",
              "          0.89124495, 0.8839093 , 0.77439654, 0.5733776 , 0.0646795 ,\n",
              "          0.12731166, 0.816599  , 0.90029544],\n",
              "         [0.9238624 , 0.8279644 , 0.7274184 , 0.8509916 , 0.9116395 ,\n",
              "          0.21640316, 0.4109717 , 0.92344654, 0.8912647 , 0.8676515 ,\n",
              "          0.91081876, 0.9236755 , 0.9313457 ]],\n",
              " \n",
              "        [[0.9660537 , 0.97779256, 0.6795893 , 0.5347014 , 0.49429995,\n",
              "          0.89868015, 0.88998085, 0.82294524, 0.49898362, 0.14230077,\n",
              "          0.13475017, 0.8461558 , 0.89860517],\n",
              "         [0.8971772 , 0.85703963, 0.743163  , 0.87278444, 0.90552235,\n",
              "          0.19766915, 0.33566353, 0.89383173, 0.87157995, 0.83140534,\n",
              "          0.92693084, 0.9499294 , 0.85782766]],\n",
              " \n",
              "        [[0.9214447 , 0.9804845 , 0.6575725 , 0.46105212, 0.5740245 ,\n",
              "          0.88368326, 0.89460224, 0.81119704, 0.50101817, 0.24979575,\n",
              "          0.16411652, 0.83694774, 0.9241573 ],\n",
              "         [0.8916    , 0.87129986, 0.7239725 , 0.8828186 , 0.7020806 ,\n",
              "          0.16116264, 0.36204475, 0.8973187 , 0.8997571 , 0.51675177,\n",
              "          0.89034307, 0.98887885, 0.88438815]],\n",
              " \n",
              "        [[0.8979453 , 0.97743154, 0.5481076 , 0.523632  , 0.570176  ,\n",
              "          0.8288708 , 0.9113763 , 0.9194614 , 0.575856  , 0.07603623,\n",
              "          0.21255928, 0.9018014 , 0.9266098 ],\n",
              "         [0.91993105, 0.8616991 , 0.781426  , 0.7750215 , 0.85324234,\n",
              "          0.14189687, 0.5463986 , 0.8761287 , 0.93542594, 0.50916994,\n",
              "          0.87139845, 0.8620718 , 0.9169966 ]],\n",
              " \n",
              "        [[0.90489644, 0.9633726 , 0.6176859 , 0.6120859 , 0.53412354,\n",
              "          0.8082982 , 0.9141492 , 0.8100913 , 0.7064677 , 0.07797408,\n",
              "          0.28660768, 0.9255538 , 0.9081669 ],\n",
              "         [0.9197768 , 0.89081717, 0.7697851 , 0.850639  , 0.8240589 ,\n",
              "          0.2276387 , 0.7375747 , 0.9573141 , 0.95667875, 0.7197965 ,\n",
              "          0.8762751 , 0.8575352 , 0.8765895 ]],\n",
              " \n",
              "        [[0.9522048 , 0.96551245, 0.72864616, 0.5890152 , 0.561211  ,\n",
              "          0.7051566 , 0.9421855 , 0.39786857, 0.7715297 , 0.6171893 ,\n",
              "          0.06328589, 1.0118455 , 0.886791  ],\n",
              "         [0.9031525 , 0.9011465 , 0.7290425 , 0.84665924, 0.85558087,\n",
              "          0.35440978, 0.8101312 , 0.931835  , 0.91998947, 0.9771716 ,\n",
              "          0.88361436, 0.8611444 , 0.88294595]],\n",
              " \n",
              "        [[0.93872   , 0.97103214, 0.63806784, 0.89063996, 0.68062663,\n",
              "          0.9067393 , 0.89928836, 0.40190646, 0.75169766, 0.5388288 ,\n",
              "          0.30325472, 0.86616135, 0.864786  ],\n",
              "         [0.9355017 , 0.93469065, 0.73501164, 0.89369905, 0.794787  ,\n",
              "          0.29464462, 0.91743165, 0.88107586, 0.89442694, 0.97276276,\n",
              "          0.9208387 , 0.8436978 , 0.9492276 ]],\n",
              " \n",
              "        [[0.91440874, 0.97273135, 0.64372706, 0.85304886, 0.6125536 ,\n",
              "          0.89858156, 0.89086473, 0.33406225, 0.7624657 , 0.64882857,\n",
              "          0.18051867, 0.93381244, 0.90368915],\n",
              "         [0.9286875 , 0.93761605, 0.7948513 , 0.81816167, 0.7628807 ,\n",
              "          0.30384466, 0.83553046, 0.83106405, 0.9189269 , 0.93762034,\n",
              "          0.94770956, 0.8512343 , 0.9446315 ]],\n",
              " \n",
              "        [[0.9450149 , 0.9582136 , 0.78555703, 0.7544447 , 0.58366936,\n",
              "          0.85938   , 0.94498163, 0.6194322 , 0.7035529 , 0.22808443,\n",
              "          0.24900974, 0.981288  , 0.92618316],\n",
              "         [0.93841267, 0.9422818 , 0.80968696, 0.8445456 , 0.7991047 ,\n",
              "          0.4916717 , 0.77814513, 0.6231525 , 0.93198806, 0.9570074 ,\n",
              "          0.95540506, 0.9207018 , 0.8778759 ]],\n",
              " \n",
              "        [[0.9381855 , 0.94920886, 0.77673894, 0.87591183, 0.3847992 ,\n",
              "          0.88775337, 0.92982674, 0.8082221 , 0.6930795 , 0.16653292,\n",
              "          0.26732486, 0.9830136 , 0.93462956],\n",
              "         [0.9093149 , 0.96090955, 0.8409559 , 0.83797425, 0.8743328 ,\n",
              "          0.82546026, 0.32881752, 0.5494046 , 0.9653242 , 0.9882784 ,\n",
              "          0.85375595, 0.95603913, 0.9316707 ]],\n",
              " \n",
              "        [[0.9048104 , 0.92460406, 0.75584614, 0.8082359 , 0.47512543,\n",
              "          0.8684657 , 0.9260271 , 0.8822638 , 0.71269846, 0.1508674 ,\n",
              "          0.22018598, 0.9016738 , 0.90536344],\n",
              "         [0.918121  , 0.96696764, 0.78534484, 0.883681  , 0.798996  ,\n",
              "          0.69723856, 0.5170047 , 0.8321578 , 0.9426196 , 0.9527973 ,\n",
              "          0.91900206, 0.9706679 , 0.90770215]],\n",
              " \n",
              "        [[0.9391487 , 0.9352003 , 0.85189575, 0.72796327, 0.6884535 ,\n",
              "          0.8768972 , 0.9508924 , 0.6879568 , 0.71122557, 0.7012927 ,\n",
              "          0.6031595 , 0.87616193, 0.91429555],\n",
              "         [0.8932258 , 0.97501004, 0.78940654, 0.8651793 , 0.72244436,\n",
              "          0.82689875, 0.4597148 , 0.93260366, 0.9202296 , 0.94214964,\n",
              "          0.8834407 , 0.98030627, 0.8976605 ]]], dtype=float32),\n",
              " 'instance_scores': array([[0.9953135 , 0.99476504],\n",
              "        [0.99593395, 0.99526805],\n",
              "        [0.9959078 , 0.9945123 ],\n",
              "        [0.99573624, 0.993386  ],\n",
              "        [0.99603134, 0.99172956],\n",
              "        [0.99564207, 0.9916197 ],\n",
              "        [0.9947187 , 0.9915406 ],\n",
              "        [0.9940315 , 0.98916876],\n",
              "        [0.99394447, 0.98962784],\n",
              "        [0.9944642 , 0.9910501 ],\n",
              "        [0.99155337, 0.9933716 ],\n",
              "        [0.9916019 , 0.9933976 ],\n",
              "        [0.9932473 , 0.9932013 ],\n",
              "        [0.9920751 , 0.9946308 ],\n",
              "        [0.991653  , 0.99465877],\n",
              "        [0.99162734, 0.99486005]], dtype=float32),\n",
              " 'centroids': array([[[271.8735 , 436.4811 ],\n",
              "         [355.93707, 435.63477]],\n",
              " \n",
              "        [[272.0215 , 436.42197],\n",
              "         [356.2099 , 435.4682 ]],\n",
              " \n",
              "        [[272.23578, 436.31976],\n",
              "         [356.61108, 435.4756 ]],\n",
              " \n",
              "        [[356.57007, 433.15857],\n",
              "         [272.7147 , 435.9847 ]],\n",
              " \n",
              "        [[356.93347, 432.73026],\n",
              "         [272.7111 , 435.8055 ]],\n",
              " \n",
              "        [[356.86227, 432.03918],\n",
              "         [272.64484, 435.49347]],\n",
              " \n",
              "        [[357.0275 , 431.29968],\n",
              "         [272.49817, 435.54977]],\n",
              " \n",
              "        [[359.29578, 431.42874],\n",
              "         [272.1338 , 435.81354]],\n",
              " \n",
              "        [[359.7555 , 429.4507 ],\n",
              "         [272.2437 , 435.95605]],\n",
              " \n",
              "        [[359.9807 , 428.4453 ],\n",
              "         [272.04776, 436.2247 ]],\n",
              " \n",
              "        [[360.3565 , 427.81192],\n",
              "         [271.94632, 437.30673]],\n",
              " \n",
              "        [[360.8997 , 427.5365 ],\n",
              "         [272.4532 , 436.9694 ]],\n",
              " \n",
              "        [[361.10843, 427.52646],\n",
              "         [272.42938, 436.09125]],\n",
              " \n",
              "        [[361.59042, 425.5916 ],\n",
              "         [272.44873, 435.94284]],\n",
              " \n",
              "        [[364.18994, 425.5058 ],\n",
              "         [272.18735, 436.0978 ]],\n",
              " \n",
              "        [[364.8356 , 425.49683],\n",
              "         [272.1019 , 436.49136]]], dtype=float32),\n",
              " 'centroid_vals': array([[0.94554764, 0.83948356],\n",
              "        [0.9591119 , 0.8525362 ],\n",
              "        [0.95961505, 0.86304706],\n",
              "        [0.9252076 , 0.97578657],\n",
              "        [0.974096  , 0.9668305 ],\n",
              "        [0.9845507 , 0.9572475 ],\n",
              "        [0.9105379 , 0.97522974],\n",
              "        [0.880064  , 0.9943127 ],\n",
              "        [0.911333  , 1.0001038 ],\n",
              "        [0.9698766 , 0.9948527 ],\n",
              "        [0.96454924, 0.9799493 ],\n",
              "        [0.96142364, 1.0046191 ],\n",
              "        [0.95354944, 0.9987816 ],\n",
              "        [0.94746464, 0.98374254],\n",
              "        [0.97818244, 0.98671097],\n",
              "        [0.9833999 , 0.98425347]], dtype=float32),\n",
              " 'n_valid': array([2, 2, 2, 2, 2, 2, 2, 2, 2, 2, 2, 2, 2, 2, 2, 2])}"
            ]
          },
          "execution_count": 11,
          "metadata": {},
          "output_type": "execute_result"
        }
      ],
      "source": [
        "imgs = video[:16]  # batch of 16 images\n",
        "\n",
        "predictions = predictor.inference_model.predict(imgs, numpy=True)\n",
        "predictions"
      ]
    },
    {
      "cell_type": "code",
      "execution_count": 12,
      "metadata": {
        "colab": {
          "base_uri": "https://localhost:8080/"
        },
        "id": "k4ms3mUAX_ww",
        "outputId": "4ea4fc9f-bdbc-4c2d-da9e-68cfc734f22c"
      },
      "outputs": [
        {
          "name": "stdout",
          "output_type": "stream",
          "text": [
            "'instance_peaks': (16, 2, 13, 2) (float32)\n",
            "'instance_peak_vals': (16, 2, 13) (float32)\n",
            "'instance_scores': (16, 2) (float32)\n",
            "'centroids': (16, 2, 2) (float32)\n",
            "'centroid_vals': (16, 2) (float32)\n",
            "'n_valid': (16,) (int32)\n"
          ]
        }
      ],
      "source": [
        "for key, value in predictions.items():\n",
        "    print(f\"'{key}': {value.shape} ({value.dtype})\")"
      ]
    },
    {
      "cell_type": "markdown",
      "metadata": {
        "id": "sDKsqAEVOogD"
      },
      "source": [
        "## 4. Realtime performance\n",
        "\n",
        "Now that we know how to do inference with different types of outputs, let's try to use that to build a simulated \"realtime\" application with timing.\n",
        "\n",
        "First, we'll create a class that simulates a camera grabber API that provides a sequence of pre-loaded frames."
      ]
    },
    {
      "cell_type": "code",
      "execution_count": 13,
      "metadata": {
        "id": "_vKMoT_oYcgZ"
      },
      "outputs": [],
      "source": [
        "from time import perf_counter\n",
        "import numpy as np\n",
        "\n",
        "\n",
        "class SimulatedCamera:\n",
        "    \"\"\"Simulated camera class that serves frames from memory continuously.\n",
        "\n",
        "    Attributes:\n",
        "        frames: Numpy array with pre-loaded frames.\n",
        "        frame_counter: Count of frames that have been grabbed.\n",
        "    \"\"\"\n",
        "\n",
        "    frames: np.ndarray\n",
        "    frame_counter: int\n",
        "\n",
        "    def __init__(self, frames):\n",
        "        self.frames = frames\n",
        "        self.frame_counter = 0\n",
        "    \n",
        "    def grab_frame(self):\n",
        "        idx = self.frame_counter % len(self.frames)\n",
        "        self.frame_counter += 1\n",
        "        return self.frames[idx]\n"
      ]
    },
    {
      "cell_type": "markdown",
      "metadata": {
        "id": "3-ctjg4wkxit"
      },
      "source": [
        "Then, we'll define a simply acquisition loop, in which we repeatedly grab a frame and perform inference to time how long it takes."
      ]
    },
    {
      "cell_type": "code",
      "execution_count": 14,
      "metadata": {
        "colab": {
          "base_uri": "https://localhost:8080/"
        },
        "id": "ExhVDw_AaOJq",
        "outputId": "3531b16e-4c0b-4e9f-a09c-9004105b469b"
      },
      "outputs": [
        {
          "name": "stdout",
          "output_type": "stream",
          "text": [
            "First inference time: 886.2 ms\n",
            "Inference times: 63.1 +- 1.2 ms\n"
          ]
        }
      ],
      "source": [
        "recording_duration = 100  # session length in frames\n",
        "\n",
        "# Pre-load images onto \"camera\"\n",
        "camera = SimulatedCamera(video[:512])\n",
        "\n",
        "# Camera capture loop\n",
        "inference_times = []\n",
        "frames_recorded = 0\n",
        "while frames_recorded < recording_duration:\n",
        "    # Get the next frame.\n",
        "    frame = camera.grab_frame()\n",
        "    frames_recorded += 1\n",
        "\n",
        "    # Get inference results for the frame and time how long it took.\n",
        "    t0 = perf_counter()\n",
        "    frame_predictions = predictor.inference_model.predict_on_batch(np.expand_dims(frame, axis=0))\n",
        "    dt = perf_counter() - t0\n",
        "    inference_times.append(dt)\n",
        "\n",
        "# Convert to milliseconds.\n",
        "inference_times = np.array(inference_times) * 1000\n",
        "\n",
        "# Separate out first timing from the rest. The first inference call is much slower as it builds the compute graph.\n",
        "first_inference_time, inference_times = inference_times[0], inference_times[1:]\n",
        "print(f\"First inference time: {first_inference_time:.1f} ms\")\n",
        "print(f\"Inference times: {inference_times.mean():.1f} +- {inference_times.std():.1f} ms\")"
      ]
    },
    {
      "cell_type": "markdown",
      "metadata": {
        "id": "WtbC0_3ek8I-"
      },
      "source": [
        "After the first batch, our inference latencies go way down and we can see how they vary over time:"
      ]
    },
    {
      "cell_type": "code",
      "execution_count": 15,
      "metadata": {
        "colab": {
          "base_uri": "https://localhost:8080/",
          "height": 457
        },
        "id": "R1uQIpjma5nJ",
        "outputId": "92a06b58-9250-482a-e645-86bb4cc5647a"
      },
      "outputs": [
        {
          "data": {
            "image/png": "[encoded data removed]",
            "text/plain": [
              "<Figure size 1200x480 with 1 Axes>"
            ]
          },
          "metadata": {},
          "output_type": "display_data"
        }
      ],
      "source": [
        "import matplotlib.pyplot as plt\n",
        "\n",
        "plt.figure(figsize=(10, 4), dpi=120, facecolor=\"w\")\n",
        "plt.plot(inference_times, \".\")\n",
        "plt.xlabel(\"Time (frames)\")\n",
        "plt.ylabel(\"Inference latency (ms)\")\n",
        "plt.grid(True);"
      ]
    },
    {
      "cell_type": "code",
      "execution_count": 16,
      "metadata": {
        "colab": {
          "base_uri": "https://localhost:8080/",
          "height": 457
        },
        "id": "ubgokqC4ct5m",
        "outputId": "03fea67b-5c92-413f-f841-5c9464be08a6"
      },
      "outputs": [
        {
          "data": {
            "image/png": "[encoded data removed]",
            "text/plain": [
              "<Figure size 720x480 with 1 Axes>"
            ]
          },
          "metadata": {},
          "output_type": "display_data"
        }
      ],
      "source": [
        "plt.figure(figsize=(6, 4), dpi=120, facecolor=\"w\")\n",
        "plt.hist(inference_times, bins=30)\n",
        "plt.xlabel(\"Inference latency (ms)\")\n",
        "plt.ylabel(\"PDF\");"
      ]
    }
  ],
  "metadata": {
    "accelerator": "GPU",
    "colab": {
      "collapsed_sections": [],
      "name": "SLEAP - Interactive and realtime inference.ipynb",
      "provenance": []
    },
    "kernelspec": {
      "display_name": "Python 3",
      "name": "python3"
    },
    "language_info": {
      "codemirror_mode": {
        "name": "ipython",
        "version": 3
      },
      "file_extension": ".py",
      "mimetype": "text/x-python",
      "name": "python",
      "nbconvert_exporter": "python",
      "pygments_lexer": "ipython3",
      "version": "3.7.12"
    }
  },
  "nbformat": 4,
  "nbformat_minor": 0
}
