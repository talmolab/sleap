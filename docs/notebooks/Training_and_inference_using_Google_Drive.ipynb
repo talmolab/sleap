{
 "cells": [
  {
   "cell_type": "markdown",
   "metadata": {
    "colab_type": "text",
    "id": "view-in-github"
   },
   "source": [
    "<a href=\"https://colab.research.google.com/github/murthylab/sleap/blob/main/docs/notebooks/Training_and_inference_using_Google_Drive.ipynb\" target=\"_parent\"><img src=\"https://colab.research.google.com/assets/colab-badge.svg\" alt=\"Open In Colab\"/></a>"
   ]
  },
  {
   "cell_type": "markdown",
   "metadata": {
    "colab_type": "text",
    "id": "K5xp-A8Oc80Q"
   },
   "source": [
    "In this notebook we'll install SLEAP, import training data into Colab using [Google Drive](https://www.google.com/drive), and run training and inference."
   ]
  },
  {
   "cell_type": "markdown",
   "metadata": {
    "colab_type": "text",
    "id": "yX9noEb8m8re"
   },
   "source": [
    "# Install SLEAP\n",
    "Note: Before installing SLEAP check [SLEAP releases](https://github.com/murthylab/sleap/releases) page for the latest version."
   ]
  },
  {
   "cell_type": "code",
   "execution_count": null,
   "metadata": {
    "colab": {
     "base_uri": "https://localhost:8080/",
     "height": 1000
    },
    "id": "DUfnkxMtLcK3",
    "outputId": "4da8bc23-4209-4007-8507-607a30738f13"
   },
   "outputs": [],
   "source": [
    "!pip install sleap==1.1.1"
   ]
  },
  {
   "cell_type": "markdown",
   "metadata": {
    "id": "iq7jrgUksLtR"
   },
   "source": [
    "# Impoprt training data into Colab with Google Drive\n",
    "We'll first prepare and export the training data from SLEAP, then upload it to Google Drive, and then mount Google Drive  into this Colab notebook."
   ]
  },
  {
   "cell_type": "markdown",
   "metadata": {
    "id": "iq7jrgUksLtR"
   },
   "source": [
    "## Create and export the training package\n",
    "A self-contained **training package** contains both labeled data as well as the labeled images which will be used for training. One advantage to training packages is that it doesn't depend on paths to other files (i.e., videos) to be messed up when you copy your project to another volume.\n",
    "\n",
    "See [this guide](https://sleap.ai/guides/training-package.html) for exporting a training package from SLEAP."
   ]
  },
  {
   "cell_type": "markdown",
   "metadata": {
    "id": "iq7jrgUksLtR"
   },
   "source": [
    "## Upload training package to Google Drive\n",
    "To be consistend with the examples in this notebook, create a directory called `sleap` in the root of your Google Drive and upload the training package into it. Name the uploaded file as `colab.pkg.slp.zip`.\n",
    "\n",
    "If you place your training pckage somewhere else, or name it differently, adjust the paths/filenames/parameters below accordingly."
   ]
  },
  {
   "cell_type": "markdown",
   "metadata": {
    "id": "iq7jrgUksLtR"
   },
   "source": [
    "## Mount your Google Drive\n",
    "Mounting your Google Drive will allow you to accessed the training package from Colab. When prompted to log into your Google account, give Colab access, and the copy the authorization code into a field below (+ hit 'return')."
   ]
  },
  {
   "cell_type": "code",
   "execution_count": null,
   "metadata": {
    "colab": {
     "base_uri": "https://localhost:8080/"
    },
    "id": "GBWjF4jpMG2N",
    "outputId": "d4b95967-c85a-4983-9896-84e2a41546d4"
   },
   "outputs": [],
   "source": [
    "from google.colab import drive\n",
    "drive.mount('/content/drive/')"
   ]
  },
  {
   "cell_type": "markdown",
   "metadata": {
    "id": "KQhv_gsdJzaq"
   },
   "source": [
    "Let's set your current working directory to the directory with your training package. This will ensure that the output from training (i.e., the models) and from interence (i.e., predictions) will all be saved in this directory."
   ]
  },
  {
   "cell_type": "code",
   "execution_count": 7,
   "metadata": {
    "id": "9umui-gI2rBz"
   },
   "outputs": [],
   "source": [
    "import os\n",
    "os.chdir(\"/content/drive/My Drive/sleap\")"
   ]
  },
  {
   "cell_type": "markdown",
   "metadata": {
    "id": "xZ-sr67av5uu"
   },
   "source": [
    "# Train a model\n",
    "\n",
    "Using the command-line interface, we'll train a model with the training profile you have exported from SLEAP.\n",
    "\n",
    "When you start training, you'll first see the training parameters and then the training and validation loss for each training epoch.\n",
    "\n",
    "As soon as you're satisfied with the validation loss you see for an epoch during training, you're welcome to stop training by clicking the stop button. The version of the model with the lowest validation loss is saved during training, and that's what will be used for inference.\n",
    "\n",
    "If you don't stop training, it will run for 200 epochs or until validation loss fails to improve for some number of epochs (controlled by the early_stopping fields in the training profile).\n",
    "\n",
    "**Important**: If your training package isn't named `colab.pkg.slp`, you'll need to adjust the name below."
   ]
  },
  {
   "cell_type": "code",
   "execution_count": null,
   "metadata": {
    "id": "QKf6qzMqNBUi"
   },
   "outputs": [],
   "source": [
    "!sleap-train baseline_medium_rf.bottomup.json colab.pkg.slp --run_name \"colab_demo.bottomup\""
   ]
  },
  {
   "cell_type": "markdown",
   "metadata": {
    "id": "whOf8PaFxYbt"
   },
   "source": [
    "Once training finishes, you'll have a trained model for confidence maps on your Google Drive. There will be a `models/` directory inside your `sleap/` directory (or wherever you had the training package), and inside it will be a directory for each model, containing all the files SLEAP needs to use this model.\n",
    "\n",
    "Down below we'll use the model files to run inference within this notebook. But you can also download the training models for running inference from the SLEAP GUI on your computer (or anywhere else)."
   ]
  },
  {
   "cell_type": "markdown",
   "metadata": {
    "id": "Q7JUp9P840qB"
   },
   "source": [
    "## Training other models\n",
    "\n",
    "The **bottomup** model you trained above can be used for \"bottom up\" inference. You can also train a **centroid** model and a **centered instance** model for \"top down\" inference. \n",
    "\n",
    "Here's how to train centroid and centered instance models using the default training settings:"
   ]
  },
  {
   "cell_type": "code",
   "execution_count": null,
   "metadata": {
    "id": "WZVftKcJ46jU"
   },
   "outputs": [],
   "source": [
    "!sleap-train baseline_medium_rf.topdown.json --run_name \"colab_demo.topdown_confmaps\""
   ]
  },
  {
   "cell_type": "code",
   "execution_count": null,
   "metadata": {
    "id": "DsPTDnkW49-5"
   },
   "outputs": [],
   "source": [
    "!sleap-train baseline.centroid.json colab.pkg.slp --run_name \"colab_demo.centroid\""
   ]
  },
  {
   "cell_type": "markdown",
   "metadata": {
    "id": "nIsKUX661xFK"
   },
   "source": [
    "# Inference\n",
    "\n",
    "At this point you should have SLEAP installed, your Google Drive mounted, and trained models saved on your Google Drive. If you've been working through the notebook, you should have a `models` subdirectory inside your current working directory. Let's take a look:"
   ]
  },
  {
   "cell_type": "code",
   "execution_count": null,
   "metadata": {
    "id": "01HDohE5upwQ"
   },
   "outputs": [],
   "source": [
    "!ls models"
   ]
  },
  {
   "cell_type": "markdown",
   "metadata": {
    "id": "MNi260mJuyJ7"
   },
   "source": [
    "We'll also need a video for which we want predictions. Copy the video onto your Google drive.\n",
    "\n",
    "For this demo we'll just get predictions for the first 200 frames (or you can adjust the `--frames` parameter below or remove it to run on the whole video).\n",
    "\n",
    "**Important**: If your video is not named `colab_demo.mp4`, change this in the following cell to match the name of your video. If you trained top-down models and not a bottom-up model, see the end of the notebook for how to run inference with the pair of top-down models."
   ]
  },
  {
   "cell_type": "code",
   "execution_count": null,
   "metadata": {
    "id": "CLtjtq9E1Znr"
   },
   "outputs": [],
   "source": [
    "!sleap-track colab_demo.mp4 \\\n",
    "    --frames 0-200 \\\n",
    "    --tracking.tracker simple \\\n",
    "    -m models/colab_demo.bottomup"
   ]
  },
  {
   "cell_type": "markdown",
   "metadata": {
    "id": "nzObCUToEqwA"
   },
   "source": [
    "When inference is finished, it will save the predictions in a file which can be opened in the GUI as a SLEAP project file. The file will be in the same directory as the video and the filename will be `{video filename}.predictions.slp`.\n",
    "\n",
    "Let's inspect the predictions file:"
   ]
  },
  {
   "cell_type": "code",
   "execution_count": null,
   "metadata": {
    "id": "nPfmNMSt-vS7"
   },
   "outputs": [],
   "source": [
    "!sleap-inspect colab_demo.mp4.predictions.slp"
   ]
  },
  {
   "cell_type": "markdown",
   "metadata": {
    "id": "LoJ2kNBK-w6k"
   },
   "source": [
    "You can copy this file from your Google Drive to a local drive and open it in the SLEAP GUI app (or open it directly if you have your Google Drive mounted on your local machine). If the video is in the same directory as the predictions file, SLEAP will automatically find it; otherwise, you'll be prompted to locate the video (since the path to the video on your local machine will be different than the path to the video on Colab)."
   ]
  },
  {
   "cell_type": "markdown",
   "metadata": {
    "id": "Mf-MsD7fv5Wy"
   },
   "source": [
    "## Inference parameters\n",
    "\n",
    "One important option when running inference is whether (and how) you want to track instance identities. If you omit `--tracking.tracker flow` then the identities will not be tracked. Tracking methods/options are explained [here](https://sleap.ai/guides/proofreading.html#tracking-methods).\n",
    "\n",
    "You can see all of the command-line arguments by calling `sleap-track` with the `--help` argument, like so:"
   ]
  },
  {
   "cell_type": "code",
   "execution_count": null,
   "metadata": {
    "id": "6hh4ogd9wtxP"
   },
   "outputs": [],
   "source": [
    "!sleap-track --help"
   ]
  },
  {
   "cell_type": "markdown",
   "metadata": {
    "id": "qW-NoJOFvYHM"
   },
   "source": [
    "## Inference with top-down models\n",
    "\n",
    "If you trained the pair of models needed for top-down inference, you can call `sleap-track` with `-m path/to/model` for each model, like so:"
   ]
  },
  {
   "cell_type": "code",
   "execution_count": null,
   "metadata": {
    "id": "QPKnMc1qvim7"
   },
   "outputs": [],
   "source": [
    "!sleap-track colab_demo.video.mp4 \\\n",
    "    --frames 0-200 \\\n",
    "    --tracking.tracker simple \\\n",
    "    -m models/colab_demo.topdown_confmaps \\\n",
    "    -m models/colab_demo.centroid"
   ]
  }
 ],
 "metadata": {
  "accelerator": "GPU",
  "colab": {
   "collapsed_sections": [],
   "include_colab_link": true,
   "name": "Training and inference using Google Drive",
   "provenance": []
  },
  "kernelspec": {
   "display_name": "Python 3",
   "language": "python",
   "name": "python3"
  },
  "language_info": {
   "codemirror_mode": {
    "name": "ipython",
    "version": 3
   },
   "file_extension": ".py",
   "mimetype": "text/x-python",
   "name": "python",
   "nbconvert_exporter": "python",
   "pygments_lexer": "ipython3",
   "version": "3.9.1"
  }
 },
 "nbformat": 4,
 "nbformat_minor": 4
}
