{
 "cells": [
  {
   "cell_type": "code",
   "execution_count": 1,
   "metadata": {},
   "outputs": [],
   "source": [
    "import sleap\n",
    "\n",
    "from sleap.skeleton import Skeleton\n",
    "from sleap.skeleton import SkeletonEncoder\n",
    "\n",
    "from networkx.readwrite import json_graph"
   ]
  },
  {
   "cell_type": "code",
   "execution_count": 2,
   "metadata": {},
   "outputs": [],
   "source": [
    "fly_skeleton_legs_json = \"tests/data/skeleton/fly_skeleton_legs.json\""
   ]
  },
  {
   "cell_type": "code",
   "execution_count": 3,
   "metadata": {},
   "outputs": [
    {
     "name": "stdout",
     "output_type": "stream",
     "text": [
      "graph: MultiDiGraph named 'skeleton_legs.mat' with 24 nodes and 23 edges\n",
      "skeleton: Skeleton(description=None, nodes=[head, neck, thorax, abdomen, wingL, wingR, forelegL1, forelegL2, forelegL3, forelegR1, forelegR2, forelegR3, midlegL1, midlegL2, midlegL3, midlegR1, midlegR2, midlegR3, hindlegL1, hindlegL2, hindlegL3, hindlegR1, hindlegR2, hindlegR3], edges=[thorax->neck, neck->head, thorax->abdomen, thorax->wingL, thorax->wingR, thorax->forelegL1, forelegL1->forelegL2, forelegL2->forelegL3, thorax->forelegR1, forelegR1->forelegR2, forelegR2->forelegR3, thorax->midlegL1, midlegL1->midlegL2, midlegL2->midlegL3, thorax->midlegR1, midlegR1->midlegR2, midlegR2->midlegR3, thorax->hindlegL1, hindlegL1->hindlegL2, hindlegL2->hindlegL3, thorax->hindlegR1, hindlegR1->hindlegR2, hindlegR2->hindlegR3], symmetries=[])\n"
     ]
    }
   ],
   "source": [
    "fly_skeleton_legs = sleap.Skeleton.load_json(fly_skeleton_legs_json)"
   ]
  },
  {
   "cell_type": "code",
   "execution_count": 4,
   "metadata": {},
   "outputs": [
    {
     "name": "stdout",
     "output_type": "stream",
     "text": [
      "indexed_node_graph: MultiDiGraph named 'skeleton_legs.mat' with 24 nodes and 23 edges\n",
      "graph: {'directed': True, 'multigraph': True, 'graph': {'name': 'skeleton_legs.mat', 'num_edges_inserted': 23}, 'nodes': [{'id': Node(name='head', weight=1.0)}, {'id': Node(name='neck', weight=1.0)}, {'id': Node(name='thorax', weight=1.0)}, {'id': Node(name='abdomen', weight=1.0)}, {'id': Node(name='wingL', weight=1.0)}, {'id': Node(name='wingR', weight=1.0)}, {'id': Node(name='forelegL1', weight=1.0)}, {'id': Node(name='forelegL2', weight=1.0)}, {'id': Node(name='forelegL3', weight=1.0)}, {'id': Node(name='forelegR1', weight=1.0)}, {'id': Node(name='forelegR2', weight=1.0)}, {'id': Node(name='forelegR3', weight=1.0)}, {'id': Node(name='midlegL1', weight=1.0)}, {'id': Node(name='midlegL2', weight=1.0)}, {'id': Node(name='midlegL3', weight=1.0)}, {'id': Node(name='midlegR1', weight=1.0)}, {'id': Node(name='midlegR2', weight=1.0)}, {'id': Node(name='midlegR3', weight=1.0)}, {'id': Node(name='hindlegL1', weight=1.0)}, {'id': Node(name='hindlegL2', weight=1.0)}, {'id': Node(name='hindlegL3', weight=1.0)}, {'id': Node(name='hindlegR1', weight=1.0)}, {'id': Node(name='hindlegR2', weight=1.0)}, {'id': Node(name='hindlegR3', weight=1.0)}], 'links': [{'edge_insert_idx': 1, 'type': <EdgeType.BODY: 1>, 'source': Node(name='neck', weight=1.0), 'target': Node(name='head', weight=1.0), 'key': 0}, {'edge_insert_idx': 0, 'type': <EdgeType.BODY: 1>, 'source': Node(name='thorax', weight=1.0), 'target': Node(name='neck', weight=1.0), 'key': 0}, {'edge_insert_idx': 2, 'type': <EdgeType.BODY: 1>, 'source': Node(name='thorax', weight=1.0), 'target': Node(name='abdomen', weight=1.0), 'key': 0}, {'edge_insert_idx': 3, 'type': <EdgeType.BODY: 1>, 'source': Node(name='thorax', weight=1.0), 'target': Node(name='wingL', weight=1.0), 'key': 0}, {'edge_insert_idx': 4, 'type': <EdgeType.BODY: 1>, 'source': Node(name='thorax', weight=1.0), 'target': Node(name='wingR', weight=1.0), 'key': 0}, {'edge_insert_idx': 5, 'type': <EdgeType.BODY: 1>, 'source': Node(name='thorax', weight=1.0), 'target': Node(name='forelegL1', weight=1.0), 'key': 0}, {'edge_insert_idx': 8, 'type': <EdgeType.BODY: 1>, 'source': Node(name='thorax', weight=1.0), 'target': Node(name='forelegR1', weight=1.0), 'key': 0}, {'edge_insert_idx': 11, 'type': <EdgeType.BODY: 1>, 'source': Node(name='thorax', weight=1.0), 'target': Node(name='midlegL1', weight=1.0), 'key': 0}, {'edge_insert_idx': 14, 'type': <EdgeType.BODY: 1>, 'source': Node(name='thorax', weight=1.0), 'target': Node(name='midlegR1', weight=1.0), 'key': 0}, {'edge_insert_idx': 17, 'type': <EdgeType.BODY: 1>, 'source': Node(name='thorax', weight=1.0), 'target': Node(name='hindlegL1', weight=1.0), 'key': 0}, {'edge_insert_idx': 20, 'type': <EdgeType.BODY: 1>, 'source': Node(name='thorax', weight=1.0), 'target': Node(name='hindlegR1', weight=1.0), 'key': 0}, {'edge_insert_idx': 6, 'type': <EdgeType.BODY: 1>, 'source': Node(name='forelegL1', weight=1.0), 'target': Node(name='forelegL2', weight=1.0), 'key': 0}, {'edge_insert_idx': 7, 'type': <EdgeType.BODY: 1>, 'source': Node(name='forelegL2', weight=1.0), 'target': Node(name='forelegL3', weight=1.0), 'key': 0}, {'edge_insert_idx': 9, 'type': <EdgeType.BODY: 1>, 'source': Node(name='forelegR1', weight=1.0), 'target': Node(name='forelegR2', weight=1.0), 'key': 0}, {'edge_insert_idx': 10, 'type': <EdgeType.BODY: 1>, 'source': Node(name='forelegR2', weight=1.0), 'target': Node(name='forelegR3', weight=1.0), 'key': 0}, {'edge_insert_idx': 12, 'type': <EdgeType.BODY: 1>, 'source': Node(name='midlegL1', weight=1.0), 'target': Node(name='midlegL2', weight=1.0), 'key': 0}, {'edge_insert_idx': 13, 'type': <EdgeType.BODY: 1>, 'source': Node(name='midlegL2', weight=1.0), 'target': Node(name='midlegL3', weight=1.0), 'key': 0}, {'edge_insert_idx': 15, 'type': <EdgeType.BODY: 1>, 'source': Node(name='midlegR1', weight=1.0), 'target': Node(name='midlegR2', weight=1.0), 'key': 0}, {'edge_insert_idx': 16, 'type': <EdgeType.BODY: 1>, 'source': Node(name='midlegR2', weight=1.0), 'target': Node(name='midlegR3', weight=1.0), 'key': 0}, {'edge_insert_idx': 18, 'type': <EdgeType.BODY: 1>, 'source': Node(name='hindlegL1', weight=1.0), 'target': Node(name='hindlegL2', weight=1.0), 'key': 0}, {'edge_insert_idx': 19, 'type': <EdgeType.BODY: 1>, 'source': Node(name='hindlegL2', weight=1.0), 'target': Node(name='hindlegL3', weight=1.0), 'key': 0}, {'edge_insert_idx': 21, 'type': <EdgeType.BODY: 1>, 'source': Node(name='hindlegR1', weight=1.0), 'target': Node(name='hindlegR2', weight=1.0), 'key': 0}, {'edge_insert_idx': 22, 'type': <EdgeType.BODY: 1>, 'source': Node(name='hindlegR2', weight=1.0), 'target': Node(name='hindlegR3', weight=1.0), 'key': 0}]}\n",
      "data: {'directed': True, 'multigraph': True, 'graph': {'name': 'skeleton_legs.mat', 'num_edges_inserted': 23}, 'nodes': [{'id': Node(name='head', weight=1.0)}, {'id': Node(name='neck', weight=1.0)}, {'id': Node(name='thorax', weight=1.0)}, {'id': Node(name='abdomen', weight=1.0)}, {'id': Node(name='wingL', weight=1.0)}, {'id': Node(name='wingR', weight=1.0)}, {'id': Node(name='forelegL1', weight=1.0)}, {'id': Node(name='forelegL2', weight=1.0)}, {'id': Node(name='forelegL3', weight=1.0)}, {'id': Node(name='forelegR1', weight=1.0)}, {'id': Node(name='forelegR2', weight=1.0)}, {'id': Node(name='forelegR3', weight=1.0)}, {'id': Node(name='midlegL1', weight=1.0)}, {'id': Node(name='midlegL2', weight=1.0)}, {'id': Node(name='midlegL3', weight=1.0)}, {'id': Node(name='midlegR1', weight=1.0)}, {'id': Node(name='midlegR2', weight=1.0)}, {'id': Node(name='midlegR3', weight=1.0)}, {'id': Node(name='hindlegL1', weight=1.0)}, {'id': Node(name='hindlegL2', weight=1.0)}, {'id': Node(name='hindlegL3', weight=1.0)}, {'id': Node(name='hindlegR1', weight=1.0)}, {'id': Node(name='hindlegR2', weight=1.0)}, {'id': Node(name='hindlegR3', weight=1.0)}], 'links': [{'edge_insert_idx': 1, 'type': <EdgeType.BODY: 1>, 'source': Node(name='neck', weight=1.0), 'target': Node(name='head', weight=1.0), 'key': 0}, {'edge_insert_idx': 0, 'type': <EdgeType.BODY: 1>, 'source': Node(name='thorax', weight=1.0), 'target': Node(name='neck', weight=1.0), 'key': 0}, {'edge_insert_idx': 2, 'type': <EdgeType.BODY: 1>, 'source': Node(name='thorax', weight=1.0), 'target': Node(name='abdomen', weight=1.0), 'key': 0}, {'edge_insert_idx': 3, 'type': <EdgeType.BODY: 1>, 'source': Node(name='thorax', weight=1.0), 'target': Node(name='wingL', weight=1.0), 'key': 0}, {'edge_insert_idx': 4, 'type': <EdgeType.BODY: 1>, 'source': Node(name='thorax', weight=1.0), 'target': Node(name='wingR', weight=1.0), 'key': 0}, {'edge_insert_idx': 5, 'type': <EdgeType.BODY: 1>, 'source': Node(name='thorax', weight=1.0), 'target': Node(name='forelegL1', weight=1.0), 'key': 0}, {'edge_insert_idx': 8, 'type': <EdgeType.BODY: 1>, 'source': Node(name='thorax', weight=1.0), 'target': Node(name='forelegR1', weight=1.0), 'key': 0}, {'edge_insert_idx': 11, 'type': <EdgeType.BODY: 1>, 'source': Node(name='thorax', weight=1.0), 'target': Node(name='midlegL1', weight=1.0), 'key': 0}, {'edge_insert_idx': 14, 'type': <EdgeType.BODY: 1>, 'source': Node(name='thorax', weight=1.0), 'target': Node(name='midlegR1', weight=1.0), 'key': 0}, {'edge_insert_idx': 17, 'type': <EdgeType.BODY: 1>, 'source': Node(name='thorax', weight=1.0), 'target': Node(name='hindlegL1', weight=1.0), 'key': 0}, {'edge_insert_idx': 20, 'type': <EdgeType.BODY: 1>, 'source': Node(name='thorax', weight=1.0), 'target': Node(name='hindlegR1', weight=1.0), 'key': 0}, {'edge_insert_idx': 6, 'type': <EdgeType.BODY: 1>, 'source': Node(name='forelegL1', weight=1.0), 'target': Node(name='forelegL2', weight=1.0), 'key': 0}, {'edge_insert_idx': 7, 'type': <EdgeType.BODY: 1>, 'source': Node(name='forelegL2', weight=1.0), 'target': Node(name='forelegL3', weight=1.0), 'key': 0}, {'edge_insert_idx': 9, 'type': <EdgeType.BODY: 1>, 'source': Node(name='forelegR1', weight=1.0), 'target': Node(name='forelegR2', weight=1.0), 'key': 0}, {'edge_insert_idx': 10, 'type': <EdgeType.BODY: 1>, 'source': Node(name='forelegR2', weight=1.0), 'target': Node(name='forelegR3', weight=1.0), 'key': 0}, {'edge_insert_idx': 12, 'type': <EdgeType.BODY: 1>, 'source': Node(name='midlegL1', weight=1.0), 'target': Node(name='midlegL2', weight=1.0), 'key': 0}, {'edge_insert_idx': 13, 'type': <EdgeType.BODY: 1>, 'source': Node(name='midlegL2', weight=1.0), 'target': Node(name='midlegL3', weight=1.0), 'key': 0}, {'edge_insert_idx': 15, 'type': <EdgeType.BODY: 1>, 'source': Node(name='midlegR1', weight=1.0), 'target': Node(name='midlegR2', weight=1.0), 'key': 0}, {'edge_insert_idx': 16, 'type': <EdgeType.BODY: 1>, 'source': Node(name='midlegR2', weight=1.0), 'target': Node(name='midlegR3', weight=1.0), 'key': 0}, {'edge_insert_idx': 18, 'type': <EdgeType.BODY: 1>, 'source': Node(name='hindlegL1', weight=1.0), 'target': Node(name='hindlegL2', weight=1.0), 'key': 0}, {'edge_insert_idx': 19, 'type': <EdgeType.BODY: 1>, 'source': Node(name='hindlegL2', weight=1.0), 'target': Node(name='hindlegL3', weight=1.0), 'key': 0}, {'edge_insert_idx': 21, 'type': <EdgeType.BODY: 1>, 'source': Node(name='hindlegR1', weight=1.0), 'target': Node(name='hindlegR2', weight=1.0), 'key': 0}, {'edge_insert_idx': 22, 'type': <EdgeType.BODY: 1>, 'source': Node(name='hindlegR2', weight=1.0), 'target': Node(name='hindlegR3', weight=1.0), 'key': 0}]}\n",
      "json_str: {\"directed\": true, \"graph\": {\"name\": \"skeleton_legs.mat\", \"num_edges_inserted\": 23}, \"links\": [{\"edge_insert_idx\": 1, \"key\": 0, \"source\": {\"py/object\": \"sleap.skeleton.Node\", \"py/state\": {\"py/tuple\": [\"neck\", 1.0]}}, \"target\": {\"py/object\": \"sleap.skeleton.Node\", \"py/state\": {\"py/tuple\": [\"head\", 1.0]}}, \"type\": {\"py/reduce\": [{\"py/type\": \"sleap.skeleton.EdgeType\"}, {\"py/tuple\": [1]}]}}, {\"edge_insert_idx\": 0, \"key\": 0, \"source\": {\"py/object\": \"sleap.skeleton.Node\", \"py/state\": {\"py/tuple\": [\"thorax\", 1.0]}}, \"target\": {\"py/id\": 1}, \"type\": {\"py/id\": 3}}, {\"edge_insert_idx\": 2, \"key\": 0, \"source\": {\"py/id\": 4}, \"target\": {\"py/object\": \"sleap.skeleton.Node\", \"py/state\": {\"py/tuple\": [\"abdomen\", 1.0]}}, \"type\": {\"py/id\": 3}}, {\"edge_insert_idx\": 3, \"key\": 0, \"source\": {\"py/id\": 4}, \"target\": {\"py/object\": \"sleap.skeleton.Node\", \"py/state\": {\"py/tuple\": [\"wingL\", 1.0]}}, \"type\": {\"py/id\": 3}}, {\"edge_insert_idx\": 4, \"key\": 0, \"source\": {\"py/id\": 4}, \"target\": {\"py/object\": \"sleap.skeleton.Node\", \"py/state\": {\"py/tuple\": [\"wingR\", 1.0]}}, \"type\": {\"py/id\": 3}}, {\"edge_insert_idx\": 5, \"key\": 0, \"source\": {\"py/id\": 4}, \"target\": {\"py/object\": \"sleap.skeleton.Node\", \"py/state\": {\"py/tuple\": [\"forelegL1\", 1.0]}}, \"type\": {\"py/id\": 3}}, {\"edge_insert_idx\": 8, \"key\": 0, \"source\": {\"py/id\": 4}, \"target\": {\"py/object\": \"sleap.skeleton.Node\", \"py/state\": {\"py/tuple\": [\"forelegR1\", 1.0]}}, \"type\": {\"py/id\": 3}}, {\"edge_insert_idx\": 11, \"key\": 0, \"source\": {\"py/id\": 4}, \"target\": {\"py/object\": \"sleap.skeleton.Node\", \"py/state\": {\"py/tuple\": [\"midlegL1\", 1.0]}}, \"type\": {\"py/id\": 3}}, {\"edge_insert_idx\": 14, \"key\": 0, \"source\": {\"py/id\": 4}, \"target\": {\"py/object\": \"sleap.skeleton.Node\", \"py/state\": {\"py/tuple\": [\"midlegR1\", 1.0]}}, \"type\": {\"py/id\": 3}}, {\"edge_insert_idx\": 17, \"key\": 0, \"source\": {\"py/id\": 4}, \"target\": {\"py/object\": \"sleap.skeleton.Node\", \"py/state\": {\"py/tuple\": [\"hindlegL1\", 1.0]}}, \"type\": {\"py/id\": 3}}, {\"edge_insert_idx\": 20, \"key\": 0, \"source\": {\"py/id\": 4}, \"target\": {\"py/object\": \"sleap.skeleton.Node\", \"py/state\": {\"py/tuple\": [\"hindlegR1\", 1.0]}}, \"type\": {\"py/id\": 3}}, {\"edge_insert_idx\": 6, \"key\": 0, \"source\": {\"py/id\": 8}, \"target\": {\"py/object\": \"sleap.skeleton.Node\", \"py/state\": {\"py/tuple\": [\"forelegL2\", 1.0]}}, \"type\": {\"py/id\": 3}}, {\"edge_insert_idx\": 7, \"key\": 0, \"source\": {\"py/id\": 14}, \"target\": {\"py/object\": \"sleap.skeleton.Node\", \"py/state\": {\"py/tuple\": [\"forelegL3\", 1.0]}}, \"type\": {\"py/id\": 3}}, {\"edge_insert_idx\": 9, \"key\": 0, \"source\": {\"py/id\": 9}, \"target\": {\"py/object\": \"sleap.skeleton.Node\", \"py/state\": {\"py/tuple\": [\"forelegR2\", 1.0]}}, \"type\": {\"py/id\": 3}}, {\"edge_insert_idx\": 10, \"key\": 0, \"source\": {\"py/id\": 16}, \"target\": {\"py/object\": \"sleap.skeleton.Node\", \"py/state\": {\"py/tuple\": [\"forelegR3\", 1.0]}}, \"type\": {\"py/id\": 3}}, {\"edge_insert_idx\": 12, \"key\": 0, \"source\": {\"py/id\": 10}, \"target\": {\"py/object\": \"sleap.skeleton.Node\", \"py/state\": {\"py/tuple\": [\"midlegL2\", 1.0]}}, \"type\": {\"py/id\": 3}}, {\"edge_insert_idx\": 13, \"key\": 0, \"source\": {\"py/id\": 18}, \"target\": {\"py/object\": \"sleap.skeleton.Node\", \"py/state\": {\"py/tuple\": [\"midlegL3\", 1.0]}}, \"type\": {\"py/id\": 3}}, {\"edge_insert_idx\": 15, \"key\": 0, \"source\": {\"py/id\": 11}, \"target\": {\"py/object\": \"sleap.skeleton.Node\", \"py/state\": {\"py/tuple\": [\"midlegR2\", 1.0]}}, \"type\": {\"py/id\": 3}}, {\"edge_insert_idx\": 16, \"key\": 0, \"source\": {\"py/id\": 20}, \"target\": {\"py/object\": \"sleap.skeleton.Node\", \"py/state\": {\"py/tuple\": [\"midlegR3\", 1.0]}}, \"type\": {\"py/id\": 3}}, {\"edge_insert_idx\": 18, \"key\": 0, \"source\": {\"py/id\": 12}, \"target\": {\"py/object\": \"sleap.skeleton.Node\", \"py/state\": {\"py/tuple\": [\"hindlegL2\", 1.0]}}, \"type\": {\"py/id\": 3}}, {\"edge_insert_idx\": 19, \"key\": 0, \"source\": {\"py/id\": 22}, \"target\": {\"py/object\": \"sleap.skeleton.Node\", \"py/state\": {\"py/tuple\": [\"hindlegL3\", 1.0]}}, \"type\": {\"py/id\": 3}}, {\"edge_insert_idx\": 21, \"key\": 0, \"source\": {\"py/id\": 13}, \"target\": {\"py/object\": \"sleap.skeleton.Node\", \"py/state\": {\"py/tuple\": [\"hindlegR2\", 1.0]}}, \"type\": {\"py/id\": 3}}, {\"edge_insert_idx\": 22, \"key\": 0, \"source\": {\"py/id\": 24}, \"target\": {\"py/object\": \"sleap.skeleton.Node\", \"py/state\": {\"py/tuple\": [\"hindlegR3\", 1.0]}}, \"type\": {\"py/id\": 3}}], \"multigraph\": true, \"nodes\": [{\"id\": {\"py/id\": 2}}, {\"id\": {\"py/id\": 1}}, {\"id\": {\"py/id\": 4}}, {\"id\": {\"py/id\": 5}}, {\"id\": {\"py/id\": 6}}, {\"id\": {\"py/id\": 7}}, {\"id\": {\"py/id\": 8}}, {\"id\": {\"py/id\": 14}}, {\"id\": {\"py/id\": 15}}, {\"id\": {\"py/id\": 9}}, {\"id\": {\"py/id\": 16}}, {\"id\": {\"py/id\": 17}}, {\"id\": {\"py/id\": 10}}, {\"id\": {\"py/id\": 18}}, {\"id\": {\"py/id\": 19}}, {\"id\": {\"py/id\": 11}}, {\"id\": {\"py/id\": 20}}, {\"id\": {\"py/id\": 21}}, {\"id\": {\"py/id\": 12}}, {\"id\": {\"py/id\": 22}}, {\"id\": {\"py/id\": 23}}, {\"id\": {\"py/id\": 13}}, {\"id\": {\"py/id\": 24}}, {\"id\": {\"py/id\": 25}}]}\n"
     ]
    },
    {
     "data": {
      "text/plain": [
       "'{\"directed\": true, \"graph\": {\"name\": \"skeleton_legs.mat\", \"num_edges_inserted\": 23}, \"links\": [{\"edge_insert_idx\": 1, \"key\": 0, \"source\": {\"py/object\": \"sleap.skeleton.Node\", \"py/state\": {\"py/tuple\": [\"neck\", 1.0]}}, \"target\": {\"py/object\": \"sleap.skeleton.Node\", \"py/state\": {\"py/tuple\": [\"head\", 1.0]}}, \"type\": {\"py/reduce\": [{\"py/type\": \"sleap.skeleton.EdgeType\"}, {\"py/tuple\": [1]}]}}, {\"edge_insert_idx\": 0, \"key\": 0, \"source\": {\"py/object\": \"sleap.skeleton.Node\", \"py/state\": {\"py/tuple\": [\"thorax\", 1.0]}}, \"target\": {\"py/id\": 1}, \"type\": {\"py/id\": 3}}, {\"edge_insert_idx\": 2, \"key\": 0, \"source\": {\"py/id\": 4}, \"target\": {\"py/object\": \"sleap.skeleton.Node\", \"py/state\": {\"py/tuple\": [\"abdomen\", 1.0]}}, \"type\": {\"py/id\": 3}}, {\"edge_insert_idx\": 3, \"key\": 0, \"source\": {\"py/id\": 4}, \"target\": {\"py/object\": \"sleap.skeleton.Node\", \"py/state\": {\"py/tuple\": [\"wingL\", 1.0]}}, \"type\": {\"py/id\": 3}}, {\"edge_insert_idx\": 4, \"key\": 0, \"source\": {\"py/id\": 4}, \"target\": {\"py/object\": \"sleap.skeleton.Node\", \"py/state\": {\"py/tuple\": [\"wingR\", 1.0]}}, \"type\": {\"py/id\": 3}}, {\"edge_insert_idx\": 5, \"key\": 0, \"source\": {\"py/id\": 4}, \"target\": {\"py/object\": \"sleap.skeleton.Node\", \"py/state\": {\"py/tuple\": [\"forelegL1\", 1.0]}}, \"type\": {\"py/id\": 3}}, {\"edge_insert_idx\": 8, \"key\": 0, \"source\": {\"py/id\": 4}, \"target\": {\"py/object\": \"sleap.skeleton.Node\", \"py/state\": {\"py/tuple\": [\"forelegR1\", 1.0]}}, \"type\": {\"py/id\": 3}}, {\"edge_insert_idx\": 11, \"key\": 0, \"source\": {\"py/id\": 4}, \"target\": {\"py/object\": \"sleap.skeleton.Node\", \"py/state\": {\"py/tuple\": [\"midlegL1\", 1.0]}}, \"type\": {\"py/id\": 3}}, {\"edge_insert_idx\": 14, \"key\": 0, \"source\": {\"py/id\": 4}, \"target\": {\"py/object\": \"sleap.skeleton.Node\", \"py/state\": {\"py/tuple\": [\"midlegR1\", 1.0]}}, \"type\": {\"py/id\": 3}}, {\"edge_insert_idx\": 17, \"key\": 0, \"source\": {\"py/id\": 4}, \"target\": {\"py/object\": \"sleap.skeleton.Node\", \"py/state\": {\"py/tuple\": [\"hindlegL1\", 1.0]}}, \"type\": {\"py/id\": 3}}, {\"edge_insert_idx\": 20, \"key\": 0, \"source\": {\"py/id\": 4}, \"target\": {\"py/object\": \"sleap.skeleton.Node\", \"py/state\": {\"py/tuple\": [\"hindlegR1\", 1.0]}}, \"type\": {\"py/id\": 3}}, {\"edge_insert_idx\": 6, \"key\": 0, \"source\": {\"py/id\": 8}, \"target\": {\"py/object\": \"sleap.skeleton.Node\", \"py/state\": {\"py/tuple\": [\"forelegL2\", 1.0]}}, \"type\": {\"py/id\": 3}}, {\"edge_insert_idx\": 7, \"key\": 0, \"source\": {\"py/id\": 14}, \"target\": {\"py/object\": \"sleap.skeleton.Node\", \"py/state\": {\"py/tuple\": [\"forelegL3\", 1.0]}}, \"type\": {\"py/id\": 3}}, {\"edge_insert_idx\": 9, \"key\": 0, \"source\": {\"py/id\": 9}, \"target\": {\"py/object\": \"sleap.skeleton.Node\", \"py/state\": {\"py/tuple\": [\"forelegR2\", 1.0]}}, \"type\": {\"py/id\": 3}}, {\"edge_insert_idx\": 10, \"key\": 0, \"source\": {\"py/id\": 16}, \"target\": {\"py/object\": \"sleap.skeleton.Node\", \"py/state\": {\"py/tuple\": [\"forelegR3\", 1.0]}}, \"type\": {\"py/id\": 3}}, {\"edge_insert_idx\": 12, \"key\": 0, \"source\": {\"py/id\": 10}, \"target\": {\"py/object\": \"sleap.skeleton.Node\", \"py/state\": {\"py/tuple\": [\"midlegL2\", 1.0]}}, \"type\": {\"py/id\": 3}}, {\"edge_insert_idx\": 13, \"key\": 0, \"source\": {\"py/id\": 18}, \"target\": {\"py/object\": \"sleap.skeleton.Node\", \"py/state\": {\"py/tuple\": [\"midlegL3\", 1.0]}}, \"type\": {\"py/id\": 3}}, {\"edge_insert_idx\": 15, \"key\": 0, \"source\": {\"py/id\": 11}, \"target\": {\"py/object\": \"sleap.skeleton.Node\", \"py/state\": {\"py/tuple\": [\"midlegR2\", 1.0]}}, \"type\": {\"py/id\": 3}}, {\"edge_insert_idx\": 16, \"key\": 0, \"source\": {\"py/id\": 20}, \"target\": {\"py/object\": \"sleap.skeleton.Node\", \"py/state\": {\"py/tuple\": [\"midlegR3\", 1.0]}}, \"type\": {\"py/id\": 3}}, {\"edge_insert_idx\": 18, \"key\": 0, \"source\": {\"py/id\": 12}, \"target\": {\"py/object\": \"sleap.skeleton.Node\", \"py/state\": {\"py/tuple\": [\"hindlegL2\", 1.0]}}, \"type\": {\"py/id\": 3}}, {\"edge_insert_idx\": 19, \"key\": 0, \"source\": {\"py/id\": 22}, \"target\": {\"py/object\": \"sleap.skeleton.Node\", \"py/state\": {\"py/tuple\": [\"hindlegL3\", 1.0]}}, \"type\": {\"py/id\": 3}}, {\"edge_insert_idx\": 21, \"key\": 0, \"source\": {\"py/id\": 13}, \"target\": {\"py/object\": \"sleap.skeleton.Node\", \"py/state\": {\"py/tuple\": [\"hindlegR2\", 1.0]}}, \"type\": {\"py/id\": 3}}, {\"edge_insert_idx\": 22, \"key\": 0, \"source\": {\"py/id\": 24}, \"target\": {\"py/object\": \"sleap.skeleton.Node\", \"py/state\": {\"py/tuple\": [\"hindlegR3\", 1.0]}}, \"type\": {\"py/id\": 3}}], \"multigraph\": true, \"nodes\": [{\"id\": {\"py/id\": 2}}, {\"id\": {\"py/id\": 1}}, {\"id\": {\"py/id\": 4}}, {\"id\": {\"py/id\": 5}}, {\"id\": {\"py/id\": 6}}, {\"id\": {\"py/id\": 7}}, {\"id\": {\"py/id\": 8}}, {\"id\": {\"py/id\": 14}}, {\"id\": {\"py/id\": 15}}, {\"id\": {\"py/id\": 9}}, {\"id\": {\"py/id\": 16}}, {\"id\": {\"py/id\": 17}}, {\"id\": {\"py/id\": 10}}, {\"id\": {\"py/id\": 18}}, {\"id\": {\"py/id\": 19}}, {\"id\": {\"py/id\": 11}}, {\"id\": {\"py/id\": 20}}, {\"id\": {\"py/id\": 21}}, {\"id\": {\"py/id\": 12}}, {\"id\": {\"py/id\": 22}}, {\"id\": {\"py/id\": 23}}, {\"id\": {\"py/id\": 13}}, {\"id\": {\"py/id\": 24}}, {\"id\": {\"py/id\": 25}}]}'"
      ]
     },
     "execution_count": 4,
     "metadata": {},
     "output_type": "execute_result"
    }
   ],
   "source": [
    "fly_skeleton_legs_json_str = fly_skeleton_legs.to_json()\n",
    "fly_skeleton_legs_json_str"
   ]
  },
  {
   "cell_type": "code",
   "execution_count": 5,
   "metadata": {},
   "outputs": [
    {
     "name": "stdout",
     "output_type": "stream",
     "text": [
      "graph: MultiDiGraph named 'skeleton_legs.mat' with 24 nodes and 23 edges\n",
      "skeleton: Skeleton(description=None, nodes=[head, neck, thorax, abdomen, wingL, wingR, forelegL1, forelegL2, forelegL3, forelegR1, forelegR2, forelegR3, midlegL1, midlegL2, midlegL3, midlegR1, midlegR2, midlegR3, hindlegL1, hindlegL2, hindlegL3, hindlegR1, hindlegR2, hindlegR3], edges=[thorax->neck, neck->head, thorax->abdomen, thorax->wingL, thorax->wingR, thorax->forelegL1, forelegL1->forelegL2, forelegL2->forelegL3, thorax->forelegR1, forelegR1->forelegR2, forelegR2->forelegR3, thorax->midlegL1, midlegL1->midlegL2, midlegL2->midlegL3, thorax->midlegR1, midlegR1->midlegR2, midlegR2->midlegR3, thorax->hindlegL1, hindlegL1->hindlegL2, hindlegL2->hindlegL3, thorax->hindlegR1, hindlegR1->hindlegR2, hindlegR2->hindlegR3], symmetries=[])\n"
     ]
    }
   ],
   "source": [
    "skeleton = Skeleton.load_json(fly_skeleton_legs_json)\n",
    "# Get the graph from the skeleton\n",
    "indexed_node_graph = skeleton._graph\n",
    "graph = json_graph.node_link_data(indexed_node_graph)\n",
    "\n",
    "# Encode the graph as a json string to test .encode method\n",
    "encoder = SkeletonEncoder()\n",
    "encoded_json_str = encoder.encode(graph)"
   ]
  },
  {
   "cell_type": "code",
   "execution_count": 9,
   "metadata": {},
   "outputs": [
    {
     "data": {
      "text/plain": [
       "{}"
      ]
     },
     "execution_count": 9,
     "metadata": {},
     "output_type": "execute_result"
    }
   ],
   "source": [
    "encoder._encoded_objects"
   ]
  },
  {
   "cell_type": "code",
   "execution_count": 6,
   "metadata": {},
   "outputs": [],
   "source": [
    "# Save the encoded json string to a file\n",
    "with open(\"encoded_json_str.json\", \"w\") as f:\n",
    "    f.write(encoded_json_str)"
   ]
  },
  {
   "cell_type": "code",
   "execution_count": 7,
   "metadata": {},
   "outputs": [
    {
     "name": "stdout",
     "output_type": "stream",
     "text": [
      "graph: MultiDiGraph named 'skeleton_legs.mat' with 25 nodes and 23 edges\n",
      "skeleton: Skeleton(description=None, nodes=[BODY, head, thorax, abdomen, wingL, wingR, forelegL1, forelegL2, forelegL3, forelegR1, forelegR2, forelegR3, midlegL1, midlegL2, midlegL3, midlegR1, midlegR2, midlegR3, hindlegL1, hindlegL2, hindlegL3, hindlegR1, hindlegR2, hindlegR3, neck], edges=[neck->head], symmetries=[])\n"
     ]
    },
    {
     "data": {
      "text/plain": [
       "Skeleton(name='skeleton_legs.mat', description='None', nodes=['BODY', 'head', 'thorax', 'abdomen', 'wingL', 'wingR', 'forelegL1', 'forelegL2', 'forelegL3', 'forelegR1', 'forelegR2', 'forelegR3', 'midlegL1', 'midlegL2', 'midlegL3', 'midlegR1', 'midlegR2', 'midlegR3', 'hindlegL1', 'hindlegL2', 'hindlegL3', 'hindlegR1', 'hindlegR2', 'hindlegR3', 'neck'], edges=[('neck', 'head')], symmetries=[])"
      ]
     },
     "execution_count": 7,
     "metadata": {},
     "output_type": "execute_result"
    }
   ],
   "source": [
    "# Get the skeleton from the encoded json string\n",
    "decoded_skeleton = Skeleton.from_json(encoded_json_str)\n",
    "decoded_skeleton"
   ]
  },
  {
   "cell_type": "code",
   "execution_count": 8,
   "metadata": {},
   "outputs": [],
   "source": [
    "# def test_SkeletonEncoder(fly_legs_skeleton_json):\n",
    "#     \"\"\"\n",
    "#     Test SkeletonEncoder.encode method.\n",
    "#     \"\"\"\n",
    "#     # Get the skeleton from the fixture\n",
    "#     skeleton = Skeleton.load_json(fly_legs_skeleton_json)\n",
    "#     # Get the graph from the skeleton\n",
    "#     indexed_node_graph = skeleton._graph\n",
    "#     graph = json_graph.node_link_data(indexed_node_graph)\n",
    "\n",
    "#     # Encode the graph as a json string to test .encode method\n",
    "#     encoder = SkeletonEncoder()\n",
    "#     encoded_json_str = encoder.encode(graph)\n",
    "\n",
    "#     # Get the skeleton from the encoded json string\n",
    "#     decoded_skeleton = Skeleton.from_json(encoded_json_str)\n",
    "\n",
    "#     # Check that the decoded skeleton is the same as the original skeleton\n",
    "#     assert skeleton.matches(decoded_skeleton)"
   ]
  }
 ],
 "metadata": {
  "kernelspec": {
   "display_name": "sleap_dev",
   "language": "python",
   "name": "python3"
  },
  "language_info": {
   "codemirror_mode": {
    "name": "ipython",
    "version": 3
   },
   "file_extension": ".py",
   "mimetype": "text/x-python",
   "name": "python",
   "nbconvert_exporter": "python",
   "pygments_lexer": "ipython3",
   "version": "3.7.12"
  }
 },
 "nbformat": 4,
 "nbformat_minor": 2
}
